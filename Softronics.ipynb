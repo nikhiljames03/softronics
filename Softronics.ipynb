{
 "cells": [
  {
   "cell_type": "code",
   "execution_count": 1,
   "id": "592f9648",
   "metadata": {},
   "outputs": [
    {
     "name": "stdout",
     "output_type": "stream",
     "text": [
      "4 2.65 hello\n",
      "<class 'int'> <class 'float'> <class 'str'>\n"
     ]
    }
   ],
   "source": [
    "x = 4\n",
    "y = 2.65\n",
    "z = \"hello\"\n",
    "print(x,y,z)\n",
    "print(type(x),type(y),type(z))"
   ]
  },
  {
   "cell_type": "markdown",
   "id": "95756171",
   "metadata": {},
   "source": [
    "# type_casting\n"
   ]
  },
  {
   "cell_type": "code",
   "execution_count": 6,
   "id": "5520ea86",
   "metadata": {
    "scrolled": false
   },
   "outputs": [
    {
     "name": "stdout",
     "output_type": "stream",
     "text": [
      "<class 'float'> <class 'int'>\n"
     ]
    }
   ],
   "source": [
    "a = float(x)\n",
    "b = int(y)\n",
    "print(type(a),type(b))"
   ]
  },
  {
   "cell_type": "markdown",
   "id": "e554294b",
   "metadata": {},
   "source": [
    "## commenting\n"
   ]
  },
  {
   "cell_type": "code",
   "execution_count": 7,
   "id": "3f08dfa9",
   "metadata": {},
   "outputs": [],
   "source": [
    "# hello"
   ]
  },
  {
   "cell_type": "code",
   "execution_count": 10,
   "id": "62f314be",
   "metadata": {
    "scrolled": true
   },
   "outputs": [
    {
     "data": {
      "text/plain": [
       "'a = float(x)\\nb = int(y)\\nprint(type(a),type(b))'"
      ]
     },
     "execution_count": 10,
     "metadata": {},
     "output_type": "execute_result"
    }
   ],
   "source": [
    "'''a = float(x)\n",
    "b = int(y)\n",
    "print(type(a),type(b)) '''"
   ]
  },
  {
   "cell_type": "markdown",
   "id": "9d247a4d",
   "metadata": {},
   "source": [
    "# user Input\n"
   ]
  },
  {
   "cell_type": "code",
   "execution_count": 13,
   "id": "5cdfa093",
   "metadata": {},
   "outputs": [
    {
     "name": "stdout",
     "output_type": "stream",
     "text": [
      "enter your namenikhil\n",
      "enter your age21\n",
      "my name is nikhil and my age is 21\n"
     ]
    }
   ],
   "source": [
    "x= input(\"enter your name\")\n",
    "y=int (input(\"enter your age\"))\n",
    "print(\"my name is \" + x+ \" and my age is\",y)"
   ]
  },
  {
   "cell_type": "code",
   "execution_count": 1,
   "id": "11993a12",
   "metadata": {},
   "outputs": [
    {
     "name": "stdout",
     "output_type": "stream",
     "text": [
      "12\n"
     ]
    }
   ],
   "source": [
    "x=\"nikhil james\"\n",
    "y=len(x)\n",
    "print(y)"
   ]
  },
  {
   "cell_type": "markdown",
   "id": "e85dcd74",
   "metadata": {},
   "source": [
    "# STRING SLICING "
   ]
  },
  {
   "cell_type": "code",
   "execution_count": 2,
   "id": "e3a8b731",
   "metadata": {},
   "outputs": [
    {
     "name": "stdout",
     "output_type": "stream",
     "text": [
      "e\n"
     ]
    }
   ],
   "source": [
    "#negative indexing\n",
    "A=x[-2]\n",
    "print(A)"
   ]
  },
  {
   "cell_type": "markdown",
   "id": "413b67fa",
   "metadata": {},
   "source": [
    "**NOTE:**\n",
    "string[start:end:step] \n"
   ]
  },
  {
   "cell_type": "code",
   "execution_count": 6,
   "id": "004b26d4",
   "metadata": {},
   "outputs": [
    {
     "name": "stdout",
     "output_type": "stream",
     "text": [
      "nh m\n"
     ]
    }
   ],
   "source": [
    "x=\"nikhil james\"\n",
    "A=x[0:12:3]\n",
    "print(A)"
   ]
  },
  {
   "cell_type": "code",
   "execution_count": 7,
   "id": "b5195dc2",
   "metadata": {},
   "outputs": [
    {
     "name": "stdout",
     "output_type": "stream",
     "text": [
      "semaj lihkin\n"
     ]
    }
   ],
   "source": [
    "a=x[::-1]\n",
    "print(a)"
   ]
  },
  {
   "cell_type": "code",
   "execution_count": 8,
   "id": "ea09c314",
   "metadata": {},
   "outputs": [
    {
     "name": "stdout",
     "output_type": "stream",
     "text": [
      "ni james\n"
     ]
    }
   ],
   "source": [
    "b=x[:2]\n",
    "c=x[7:]\n",
    "print(b,c)"
   ]
  },
  {
   "cell_type": "markdown",
   "id": "14ea7851",
   "metadata": {},
   "source": [
    "# CONCATENATION"
   ]
  },
  {
   "cell_type": "code",
   "execution_count": 11,
   "id": "e4a46079",
   "metadata": {},
   "outputs": [
    {
     "name": "stdout",
     "output_type": "stream",
     "text": [
      "Nikhil James\n"
     ]
    }
   ],
   "source": [
    "A=\"Nikhil\"\n",
    "B=\"James\"\n",
    "print(A+\" \"+B)"
   ]
  },
  {
   "cell_type": "raw",
   "id": "a6b7fa08",
   "metadata": {},
   "source": [
    "string methods\n"
   ]
  },
  {
   "cell_type": "code",
   "execution_count": 14,
   "id": "f8ea9283",
   "metadata": {},
   "outputs": [
    {
     "name": "stdout",
     "output_type": "stream",
     "text": [
      "True\n"
     ]
    }
   ],
   "source": [
    "y=\"abc\".isalpha()\n",
    "print(y)"
   ]
  },
  {
   "cell_type": "code",
   "execution_count": 17,
   "id": "ad8b268e",
   "metadata": {},
   "outputs": [
    {
     "name": "stdout",
     "output_type": "stream",
     "text": [
      "['apple', 'banana', 'cherry']\n",
      "apple banana cherry\n"
     ]
    }
   ],
   "source": [
    "my_string=\"apple,banana,cherry\"\n",
    "fruits =my_string.split(\",\")\n",
    "print(fruits)\n",
    "fruitsnew=\" \".join(fruits)\n",
    "print(fruitsnew)"
   ]
  },
  {
   "cell_type": "markdown",
   "id": "2a10d0ef",
   "metadata": {},
   "source": [
    "string formatting "
   ]
  },
  {
   "cell_type": "code",
   "execution_count": 18,
   "id": "73e4b227",
   "metadata": {},
   "outputs": [
    {
     "name": "stdout",
     "output_type": "stream",
     "text": [
      "my name is NIKHIL and my age is 21\n"
     ]
    }
   ],
   "source": [
    "name=\"NIKHIL\"\n",
    "AGE=21\n",
    "print(\"my name is %s and my age is %d\" %(name,AGE))"
   ]
  },
  {
   "cell_type": "code",
   "execution_count": 23,
   "id": "84bf614f",
   "metadata": {},
   "outputs": [
    {
     "name": "stdout",
     "output_type": "stream",
     "text": [
      "my name is NIKHIL and my age is 21.\n"
     ]
    }
   ],
   "source": [
    "print(f\"my name is {name} and my age is {AGE}.\")"
   ]
  },
  {
   "cell_type": "code",
   "execution_count": 24,
   "id": "6073d8d1",
   "metadata": {},
   "outputs": [
    {
     "name": "stdout",
     "output_type": "stream",
     "text": [
      "my name is NIKHIL and my age is 21\n"
     ]
    }
   ],
   "source": [
    "print(\"my name is {} and my age is {}\" .format(name,AGE))"
   ]
  },
  {
   "cell_type": "code",
   "execution_count": 25,
   "id": "279c047a",
   "metadata": {},
   "outputs": [
    {
     "name": "stdout",
     "output_type": "stream",
     "text": [
      "my name is NIKHIL and my height is 167.68\n"
     ]
    }
   ],
   "source": [
    "height= 167.67986\n",
    "print(\"my name is {} and my height is {:0.2f}\" .format(name,height))"
   ]
  },
  {
   "cell_type": "markdown",
   "id": "e9c36c24",
   "metadata": {},
   "source": [
    "# list\n"
   ]
  },
  {
   "cell_type": "code",
   "execution_count": 1,
   "id": "84afe084",
   "metadata": {},
   "outputs": [
    {
     "name": "stdout",
     "output_type": "stream",
     "text": [
      "['apple', 'banana', 'cherry']\n"
     ]
    }
   ],
   "source": [
    "my_list =[\"apple\",\"banana\",\"cherry\"]\n",
    "print(my_list)"
   ]
  },
  {
   "cell_type": "code",
   "execution_count": 2,
   "id": "4c6e4d27",
   "metadata": {},
   "outputs": [
    {
     "name": "stdout",
     "output_type": "stream",
     "text": [
      "<class 'list'>\n"
     ]
    }
   ],
   "source": [
    "print(type(my_list))"
   ]
  },
  {
   "cell_type": "code",
   "execution_count": 3,
   "id": "670c6c15",
   "metadata": {},
   "outputs": [
    {
     "name": "stdout",
     "output_type": "stream",
     "text": [
      "['apple', 'banana', 'cherry', 'orange']\n"
     ]
    }
   ],
   "source": [
    "my_list.append(\"orange\")\n",
    "print(my_list)"
   ]
  },
  {
   "cell_type": "code",
   "execution_count": 4,
   "id": "bb567a3e",
   "metadata": {},
   "outputs": [
    {
     "name": "stdout",
     "output_type": "stream",
     "text": [
      "['nuts', 'apple', 'banana', 'cherry', 'orange']\n"
     ]
    }
   ],
   "source": [
    "my_list.insert(0,\"nuts\")\n",
    "print(my_list)"
   ]
  },
  {
   "cell_type": "code",
   "execution_count": 6,
   "id": "d7fcee1a",
   "metadata": {},
   "outputs": [
    {
     "name": "stdout",
     "output_type": "stream",
     "text": [
      "['nuts', 'apple', 'grapes', 'cherry', 'orange']\n"
     ]
    }
   ],
   "source": [
    "my_list[2] = \"grapes\"\n",
    "print(my_list)"
   ]
  },
  {
   "cell_type": "code",
   "execution_count": 10,
   "id": "ef9e1cdd",
   "metadata": {},
   "outputs": [
    {
     "name": "stdout",
     "output_type": "stream",
     "text": [
      "['nuts', 'apple', 'papaya', 'melon', 'melon', 'melon', 'melon', 'cherry', 'orange']\n"
     ]
    }
   ],
   "source": [
    "my_list[2:3] = [\"papaya\",\"melon\"]\n",
    "print(my_list)"
   ]
  },
  {
   "cell_type": "code",
   "execution_count": 13,
   "id": "2f3b8209",
   "metadata": {},
   "outputs": [
    {
     "name": "stdout",
     "output_type": "stream",
     "text": [
      "['nuts', 'apple', 'papaya', 'melon', 'cherry', 'orange']\n"
     ]
    }
   ],
   "source": [
    "my_list.remove(\"melon\")\n",
    "print(my_list)"
   ]
  },
  {
   "cell_type": "code",
   "execution_count": 14,
   "id": "f816c3c8",
   "metadata": {},
   "outputs": [
    {
     "name": "stdout",
     "output_type": "stream",
     "text": [
      "['nuts', 'apple', 'papaya', 'melon', 'cherry']\n"
     ]
    }
   ],
   "source": [
    "my_list.pop()\n",
    "print(my_list)"
   ]
  },
  {
   "cell_type": "code",
   "execution_count": 15,
   "id": "762cbcb9",
   "metadata": {},
   "outputs": [
    {
     "name": "stdout",
     "output_type": "stream",
     "text": [
      "['nuts', 'apple', 'melon', 'cherry']\n"
     ]
    }
   ],
   "source": [
    "del my_list[2]\n",
    "print(my_list)"
   ]
  },
  {
   "cell_type": "code",
   "execution_count": 19,
   "id": "c560f82d",
   "metadata": {},
   "outputs": [
    {
     "name": "stdout",
     "output_type": "stream",
     "text": [
      "['list1']\n",
      "None\n",
      "['list1', 'list2']\n"
     ]
    }
   ],
   "source": [
    "N = [\"list1\",\"list2\"]\n",
    "def my_list():\n",
    "    N = [\"list1\"]\n",
    "    print(N)\n",
    "result = my_list()\n",
    "print(result)\n",
    "print(N)"
   ]
  },
  {
   "cell_type": "markdown",
   "id": "f0bb1d55",
   "metadata": {},
   "source": [
    "# NESTED LIST"
   ]
  },
  {
   "cell_type": "code",
   "execution_count": 22,
   "id": "efc1392c",
   "metadata": {},
   "outputs": [
    {
     "name": "stdout",
     "output_type": "stream",
     "text": [
      "3\n"
     ]
    }
   ],
   "source": [
    "X = [1,2,3,4 [5,6,3,2,5] 2,0,2,4,5,3,2]\n",
    "print(X.count(5))"
   ]
  },
  {
   "cell_type": "code",
   "execution_count": 23,
   "id": "002c5411",
   "metadata": {},
   "outputs": [
    {
     "name": "stdout",
     "output_type": "stream",
     "text": [
      "[1, 2, 1, 4, 2, 5, 3, 6, 7, 2, 5, 2, 0, 2, 4, 5, 3, 2]\n"
     ]
    }
   ],
   "source": [
    "X[2:8] = [1,4,2,5,3,6,7,2]\n",
    "print(X)"
   ]
  },
  {
   "cell_type": "code",
   "execution_count": 28,
   "id": "571e98f7",
   "metadata": {},
   "outputs": [
    {
     "name": "stdout",
     "output_type": "stream",
     "text": [
      "[7, 3, 9, 1, 5]\n"
     ]
    }
   ],
   "source": [
    "X = [5,3,9,1,7]\n",
    "X[0],X[-1]= X[-1],X[0]\n",
    "print(X)\n"
   ]
  },
  {
   "cell_type": "code",
   "execution_count": 35,
   "id": "00ea2c5c",
   "metadata": {},
   "outputs": [
    {
     "name": "stdout",
     "output_type": "stream",
     "text": [
      "5\n"
     ]
    }
   ],
   "source": [
    "X = [5,3,9,1,7]\n",
    "X.sort()\n",
    "print(X[-3])"
   ]
  },
  {
   "cell_type": "markdown",
   "id": "e242d84e",
   "metadata": {},
   "source": [
    "# Tuples"
   ]
  },
  {
   "cell_type": "code",
   "execution_count": 36,
   "id": "d03972b6",
   "metadata": {},
   "outputs": [
    {
     "name": "stdout",
     "output_type": "stream",
     "text": [
      "('apple', 'banana', 'cherry', 'mango')\n"
     ]
    }
   ],
   "source": [
    "x = (\"apple\",\"banana\",\"cherry\")\n",
    "y = list(x)\n",
    "y.append(\"mango\")\n",
    "x = tuple(y)\n",
    "print(x)"
   ]
  },
  {
   "cell_type": "code",
   "execution_count": 39,
   "id": "b7acb9e8",
   "metadata": {},
   "outputs": [
    {
     "name": "stdout",
     "output_type": "stream",
     "text": [
      "('apple', 'banana', 'cherry', 'mango', 'melon')\n"
     ]
    }
   ],
   "source": [
    "z = (\"melon\",)\n",
    "x += z\n",
    "print(x)"
   ]
  },
  {
   "cell_type": "markdown",
   "id": "c23d8108",
   "metadata": {},
   "source": [
    "# unpacking tuples"
   ]
  },
  {
   "cell_type": "code",
   "execution_count": 43,
   "id": "27ed4353",
   "metadata": {},
   "outputs": [
    {
     "name": "stdout",
     "output_type": "stream",
     "text": [
      "['banana', 'cherry', 'mango']\n",
      "apple\n",
      "melon\n"
     ]
    }
   ],
   "source": [
    "a,*b,c = x\n",
    "print(b)\n",
    "print(a)\n",
    "print(c)"
   ]
  },
  {
   "cell_type": "markdown",
   "id": "c9845103",
   "metadata": {},
   "source": [
    "# set"
   ]
  },
  {
   "cell_type": "code",
   "execution_count": 52,
   "id": "91800f1c",
   "metadata": {},
   "outputs": [
    {
     "name": "stdout",
     "output_type": "stream",
     "text": [
      "{'bmw'}\n"
     ]
    }
   ],
   "source": [
    "x = set()\n",
    "x.add(\"bmw\")\n",
    "print(x)"
   ]
  },
  {
   "cell_type": "code",
   "execution_count": 53,
   "id": "7444597a",
   "metadata": {},
   "outputs": [
    {
     "name": "stdout",
     "output_type": "stream",
     "text": [
      "{'bmw', 'benz'}\n"
     ]
    }
   ],
   "source": [
    "y = {\"benz\"}\n",
    "x.update(y)\n",
    "print(x)"
   ]
  },
  {
   "cell_type": "code",
   "execution_count": 54,
   "id": "82878a22",
   "metadata": {},
   "outputs": [
    {
     "name": "stdout",
     "output_type": "stream",
     "text": [
      "{'benz'}\n"
     ]
    }
   ],
   "source": [
    "x.remove(\"bmw\")\n",
    "print(x)"
   ]
  },
  {
   "cell_type": "code",
   "execution_count": 56,
   "id": "0a3570a6",
   "metadata": {},
   "outputs": [
    {
     "name": "stdout",
     "output_type": "stream",
     "text": [
      "set()\n"
     ]
    }
   ],
   "source": [
    "x.discard(\"benz\")\n",
    "print(x)"
   ]
  },
  {
   "cell_type": "code",
   "execution_count": 61,
   "id": "9a6d5ae2",
   "metadata": {},
   "outputs": [
    {
     "name": "stdout",
     "output_type": "stream",
     "text": [
      "{1, 2, 3, 4, 5}\n",
      "{3}\n",
      "{1, 2}\n",
      "{1, 2, 4, 5}\n"
     ]
    }
   ],
   "source": [
    "x = {1,2,3}\n",
    "y = {3,4,5}\n",
    "print(x.union(y))\n",
    "print(x.intersection(y))\n",
    "print(x.difference(y))\n",
    "print(x.symmetric_difference(y))"
   ]
  },
  {
   "cell_type": "markdown",
   "id": "96288961",
   "metadata": {},
   "source": [
    "# for loop"
   ]
  },
  {
   "cell_type": "code",
   "execution_count": 2,
   "id": "e7921884",
   "metadata": {},
   "outputs": [
    {
     "name": "stdout",
     "output_type": "stream",
     "text": [
      "b\n",
      "a\n",
      "n\n",
      "a\n",
      "n\n",
      "a\n"
     ]
    }
   ],
   "source": [
    "\n",
    "for x in \"banana\":\n",
    "    print(x)\n"
   ]
  },
  {
   "cell_type": "code",
   "execution_count": 9,
   "id": "bf011630",
   "metadata": {},
   "outputs": [
    {
     "name": "stdout",
     "output_type": "stream",
     "text": [
      "apple\n"
     ]
    }
   ],
   "source": [
    "x = [\"apple\",\"banana\",\"cherry\",\"mango\"]\n",
    "for i in x:\n",
    "    if i == \"banana\":\n",
    "        break\n",
    "    print(i)   "
   ]
  },
  {
   "cell_type": "code",
   "execution_count": 10,
   "id": "72c02af0",
   "metadata": {},
   "outputs": [
    {
     "name": "stdout",
     "output_type": "stream",
     "text": [
      "apple\n",
      "cherry\n",
      "mango\n"
     ]
    }
   ],
   "source": [
    "x = [\"apple\",\"banana\",\"cherry\",\"mango\"]\n",
    "for i in x:\n",
    "    if i == \"banana\":\n",
    "        continue\n",
    "    print(i)"
   ]
  },
  {
   "cell_type": "code",
   "execution_count": 11,
   "id": "02453b31",
   "metadata": {},
   "outputs": [
    {
     "name": "stdout",
     "output_type": "stream",
     "text": [
      "0\n",
      "1\n",
      "2\n",
      "3\n",
      "4\n",
      "5\n",
      "6\n",
      "7\n",
      "8\n",
      "9\n"
     ]
    }
   ],
   "source": [
    "for i in range (10):\n",
    "    print(i)"
   ]
  },
  {
   "cell_type": "code",
   "execution_count": 12,
   "id": "baa3b0ff",
   "metadata": {},
   "outputs": [
    {
     "name": "stdout",
     "output_type": "stream",
     "text": [
      "3\n",
      "4\n",
      "5\n",
      "6\n",
      "7\n",
      "8\n",
      "9\n",
      "10\n"
     ]
    }
   ],
   "source": [
    "for i in range (3,11):\n",
    "    print(i)"
   ]
  },
  {
   "cell_type": "code",
   "execution_count": 14,
   "id": "c7342d36",
   "metadata": {},
   "outputs": [
    {
     "name": "stdout",
     "output_type": "stream",
     "text": [
      "3\n",
      "5\n"
     ]
    }
   ],
   "source": [
    "for i in range(3,7,2):\n",
    "    print(i)"
   ]
  },
  {
   "cell_type": "code",
   "execution_count": 15,
   "id": "7bf39c72",
   "metadata": {},
   "outputs": [
    {
     "name": "stdout",
     "output_type": "stream",
     "text": [
      "0\n",
      "1\n",
      "2\n",
      "3\n",
      "4\n",
      "5\n",
      "finally finised\n"
     ]
    }
   ],
   "source": [
    "for i in range(6):\n",
    "    print(i)\n",
    "else:\n",
    "    print(\"finally finised\")"
   ]
  },
  {
   "cell_type": "code",
   "execution_count": 16,
   "id": "e37a8096",
   "metadata": {},
   "outputs": [
    {
     "name": "stdout",
     "output_type": "stream",
     "text": [
      "0 4\n",
      "0 5\n",
      "0 6\n",
      "1 4\n",
      "1 5\n",
      "1 6\n",
      "2 4\n",
      "2 5\n",
      "2 6\n"
     ]
    }
   ],
   "source": [
    "for x in range (3):\n",
    "    for y in range(4,7):\n",
    "        print(x,y)\n",
    "    "
   ]
  },
  {
   "cell_type": "code",
   "execution_count": 25,
   "id": "fabe4005",
   "metadata": {},
   "outputs": [
    {
     "name": "stdout",
     "output_type": "stream",
     "text": [
      "2 3 4 5\n",
      "['2', '3', '4', '5']\n"
     ]
    }
   ],
   "source": [
    "x = input().split(\" \")\n",
    "\n"
   ]
  },
  {
   "cell_type": "code",
   "execution_count": 26,
   "id": "7badb175",
   "metadata": {},
   "outputs": [
    {
     "name": "stdout",
     "output_type": "stream",
     "text": [
      "11 is a prime number\n",
      "13 is a prime number\n",
      "17 is a prime number\n"
     ]
    }
   ],
   "source": [
    "for x in range(9,19):\n",
    "    for y in range(2,x):\n",
    "        if x%y==0:\n",
    "            break\n",
    "    else:\n",
    "        print(x,\"is a prime number\")"
   ]
  },
  {
   "cell_type": "code",
   "execution_count": 28,
   "id": "50b60c68",
   "metadata": {},
   "outputs": [
    {
     "name": "stdout",
     "output_type": "stream",
     "text": [
      "6\n",
      "6 x 1 = 6\n",
      "6 x 2 = 12\n",
      "6 x 3 = 18\n",
      "6 x 4 = 24\n",
      "6 x 5 = 30\n",
      "6 x 6 = 36\n",
      "6 x 7 = 42\n",
      "6 x 8 = 48\n",
      "6 x 9 = 54\n",
      "6 x 10 = 60\n"
     ]
    }
   ],
   "source": [
    "n = int (input())\n",
    "for i in range(1,11):\n",
    "    p=n*i\n",
    "    print(\"%d x %d = %d\"%(n,i,p))"
   ]
  },
  {
   "cell_type": "code",
   "execution_count": 35,
   "id": "540e36ab",
   "metadata": {},
   "outputs": [
    {
     "name": "stdout",
     "output_type": "stream",
     "text": [
      "1\n",
      "12\n",
      "123\n",
      "1234\n",
      "12345\n",
      "123456\n",
      "1234567\n",
      "12345678\n"
     ]
    }
   ],
   "source": [
    "r = 8\n",
    "for i in range(1,r+1):\n",
    "    for j in range(1,i+1):\n",
    "        print(j,end=\"\")\n",
    "    print()\n"
   ]
  },
  {
   "cell_type": "code",
   "execution_count": 36,
   "id": "59e86c19",
   "metadata": {},
   "outputs": [
    {
     "name": "stdout",
     "output_type": "stream",
     "text": [
      "2\n",
      "3\n",
      "_ _ _ \n",
      "_ _ \n",
      "_ \n"
     ]
    }
   ],
   "source": [
    "n= int(input())\n",
    "m = int(input())\n",
    "for i in range(0,n+1):\n",
    "    for y in range(m-i,0,-1):\n",
    "        print(\"_\",end=\" \")\n",
    "    print()"
   ]
  },
  {
   "cell_type": "code",
   "execution_count": 40,
   "id": "cb0a1ea7",
   "metadata": {},
   "outputs": [
    {
     "name": "stdout",
     "output_type": "stream",
     "text": [
      "1 \n",
      "1 2 \n",
      "1 2 3 \n",
      "1 2 3 4 \n",
      "1 2 3 4 5 \n",
      "5 5 5 5 \n",
      "5 5 5 \n",
      "5 5 \n",
      "5 \n",
      "\n"
     ]
    }
   ],
   "source": [
    "n=5\n",
    "for i in range(1,n+1):\n",
    "    for j in range(1,i+1):\n",
    "        print(j,end=\" \")\n",
    "    print()\n",
    "for i in range(n,0,-1):\n",
    "    for y in range(0,i-1):\n",
    "        print(j,end=\" \")\n",
    "    print()"
   ]
  },
  {
   "cell_type": "code",
   "execution_count": 60,
   "id": "5c4ddbfe",
   "metadata": {},
   "outputs": [
    {
     "name": "stdout",
     "output_type": "stream",
     "text": [
      "enter a string: shjh37\n",
      "2 is the number of digit in the input\n",
      "4 is the number alphabet in the input\n"
     ]
    }
   ],
   "source": [
    "n = input(\"enter a string: \")\n",
    "digit=0\n",
    "alpha=0\n",
    "for i in n:\n",
    "    if i.isalpha():\n",
    "        alpha+=1\n",
    "    elif i.isdigit():\n",
    "        digit+=1\n",
    "    else:\n",
    "        pass\n",
    "print(digit,\"is the number of digit in the input\")\n",
    "print(alpha,\"is the number alphabet in the input\")"
   ]
  },
  {
   "cell_type": "markdown",
   "id": "97c9c60f",
   "metadata": {},
   "source": [
    "# list comprehension"
   ]
  },
  {
   "cell_type": "code",
   "execution_count": 63,
   "id": "4395fea4",
   "metadata": {},
   "outputs": [
    {
     "name": "stdout",
     "output_type": "stream",
     "text": [
      "['apple', 'banana', 'mango']\n"
     ]
    }
   ],
   "source": [
    "x = [\"apple\",\"banana\",\"mango\",\"cherry\"]\n",
    "newlist =[i for i in x if \"a\" in i]\n",
    "print(newlist)"
   ]
  },
  {
   "cell_type": "code",
   "execution_count": 66,
   "id": "b67356fc",
   "metadata": {},
   "outputs": [
    {
     "name": "stdout",
     "output_type": "stream",
     "text": [
      "[1, 4, 9, 16, 25, 36, 49, 64, 81, 100]\n"
     ]
    }
   ],
   "source": [
    "newlist = [x**2 for x in range(1,11)]\n",
    "print(newlist)"
   ]
  },
  {
   "cell_type": "markdown",
   "id": "8c3c0df3",
   "metadata": {},
   "source": [
    "# enumarate"
   ]
  },
  {
   "cell_type": "code",
   "execution_count": 67,
   "id": "d6d21b03",
   "metadata": {},
   "outputs": [
    {
     "name": "stdout",
     "output_type": "stream",
     "text": [
      "0 big\n",
      "1 bang\n",
      "2 theroy\n"
     ]
    }
   ],
   "source": [
    "for index,value in enumerate([\"big\",\"bang\",\"theroy\"]):\n",
    "    print(index,value)"
   ]
  },
  {
   "cell_type": "code",
   "execution_count": 69,
   "id": "c5bcdc37",
   "metadata": {},
   "outputs": [
    {
     "name": "stdout",
     "output_type": "stream",
     "text": [
      "<enumerate object at 0x10788a1b0>\n",
      "[(0, (0, 'apple')), (1, (1, 'banana')), (2, (2, 'mango')), (3, (3, 'cherry'))]\n"
     ]
    }
   ],
   "source": [
    "n = [\"big\",\"bang\",\"theroy\"]\n",
    "x= enumerate(x)\n",
    "print(x)\n",
    "print(list(x))"
   ]
  },
  {
   "cell_type": "code",
   "execution_count": 2,
   "id": "a9cf9c0f",
   "metadata": {},
   "outputs": [
    {
     "name": "stdout",
     "output_type": "stream",
     "text": [
      "fruit is apple and colour is red \n",
      "fruit is banana and colour is yellow\n",
      "fruit is mango and colour is orange\n",
      "fruit is cherry and colour is purple\n"
     ]
    }
   ],
   "source": [
    "x = [\"apple\",\"banana\",\"mango\",\"cherry\"]\n",
    "y = [\"red \",\"yellow\",\"orange\",\"purple\"]\n",
    "for x,y in zip(x,y):\n",
    "    print(\"fruit is {0} and colour is {1}\".format(x,y))"
   ]
  },
  {
   "cell_type": "code",
   "execution_count": 13,
   "id": "c424a420",
   "metadata": {},
   "outputs": [
    {
     "name": "stdout",
     "output_type": "stream",
     "text": [
      "1 12 29 29 29 34 38 38 45 47 67 67 71 74 82 83 93 ---------------\n",
      "1 12 29 34 38 45 47 67 71 74 82 83 93 "
     ]
    }
   ],
   "source": [
    "n=[67,38,45,29,1,83,82,12,47,38,29,93,74,67,71,34,29]\n",
    "for i in sorted (n):\n",
    "    print(i,end=\" \")\n",
    "print(\"---------------\")\n",
    "for i in sorted (set(n)):\n",
    "    print(i,end=\" \")"
   ]
  },
  {
   "cell_type": "code",
   "execution_count": 14,
   "id": "13928dc5",
   "metadata": {},
   "outputs": [
    {
     "name": "stdout",
     "output_type": "stream",
     "text": [
      "29 34 71 67 74 93 29 38 47 12 82 83 1 29 45 38 67 "
     ]
    }
   ],
   "source": [
    "for i in reversed(n):\n",
    "    print(i,end=\" \")"
   ]
  },
  {
   "cell_type": "markdown",
   "id": "a4ae6e87",
   "metadata": {},
   "source": [
    "# iter()and next()"
   ]
  },
  {
   "cell_type": "code",
   "execution_count": 18,
   "id": "5ad3a87e",
   "metadata": {},
   "outputs": [
    {
     "name": "stdout",
     "output_type": "stream",
     "text": [
      "a\n",
      "e\n",
      "i\n",
      "o\n",
      "u\n"
     ]
    }
   ],
   "source": [
    "vowels =[\"a\",\"e\",\"i\",\"o\",\"u\"]\n",
    "a = iter(vowels)\n",
    "print(next(a))\n",
    "print(next(a))\n",
    "print(next(a))\n",
    "print(next(a))\n",
    "print(next(a))"
   ]
  },
  {
   "cell_type": "code",
   "execution_count": 21,
   "id": "c1e32735",
   "metadata": {},
   "outputs": [
    {
     "name": "stdout",
     "output_type": "stream",
     "text": [
      "a\n",
      "e\n",
      "i\n",
      "o\n",
      "u\n"
     ]
    }
   ],
   "source": [
    "a = iter(vowels)\n",
    "for i in a :\n",
    "    print(i)\n",
    "    "
   ]
  },
  {
   "cell_type": "code",
   "execution_count": 44,
   "id": "e21f275a",
   "metadata": {},
   "outputs": [
    {
     "name": "stdout",
     "output_type": "stream",
     "text": [
      "{'brand': 'Bentley', 'model': 'continetal Gt', 'electric': False, 'year': 2023}\n",
      "<class 'dict'>\n",
      "4\n"
     ]
    }
   ],
   "source": [
    "my_dict = {\n",
    "    \"brand\": \"Bentley\",\n",
    "    \"model\": \"continetal Gt\",\n",
    "    \"electric\": False,\n",
    "    \"year\": 2023\n",
    "}\n",
    "print(my_dict)\n",
    "print(type(my_dict))\n",
    "print(len(my_dict))"
   ]
  },
  {
   "cell_type": "code",
   "execution_count": 32,
   "id": "27009497",
   "metadata": {},
   "outputs": [
    {
     "name": "stdout",
     "output_type": "stream",
     "text": [
      "Bentley\n",
      "continetal Gt\n",
      "dict_keys(['brand', 'model', 'electric', 'year'])\n",
      "dict_items([('brand', 'Bentley'), ('model', 'continetal Gt'), ('electric', False), ('year', 2023)])\n",
      "dict_values(['Bentley', 'continetal Gt', False, 2023])\n"
     ]
    }
   ],
   "source": [
    "print(my_dict[\"brand\"])\n",
    "print(my_dict.get(\"model\")) #using get()method\n",
    "print(my_dict.keys()) # keys prints all key elements\n",
    "print(my_dict.items()) # prints corresponding values to the keys respectively\n",
    "print(my_dict.values()) # prints corresponding values only to the keys respectively"
   ]
  },
  {
   "cell_type": "code",
   "execution_count": 36,
   "id": "8df37ed8",
   "metadata": {},
   "outputs": [
    {
     "name": "stdout",
     "output_type": "stream",
     "text": [
      "{'brand': 'royel enfield', 'model': 'continetal Gt', 'electric': False, 'year': 2023}\n"
     ]
    }
   ],
   "source": [
    "my_dict[\"brand\"] = \"royel enfield\"\n",
    "print(my_dict)"
   ]
  },
  {
   "cell_type": "code",
   "execution_count": 40,
   "id": "853df14f",
   "metadata": {},
   "outputs": [
    {
     "name": "stdout",
     "output_type": "stream",
     "text": [
      "{'brand': 'royel enfield', 'model': 'continetal Gt', 'electric': False, 'year': 2020, 'colour': 'coffee Brown'}\n",
      "{'brand': 'royel enfield', 'model': 'continetal Gt', 'electric': False, 'year': 2020, 'colour': 'coffee Brown'}\n"
     ]
    }
   ],
   "source": [
    "my_dict[\"colour\"]= \"coffee Brown\"\n",
    "print(my_dict)\n",
    "my_dict.update({\"year\":2020})\n",
    "print(my_dict)\n"
   ]
  },
  {
   "cell_type": "code",
   "execution_count": 41,
   "id": "c91861f2",
   "metadata": {},
   "outputs": [
    {
     "name": "stdout",
     "output_type": "stream",
     "text": [
      "{'brand': 'royel enfield', 'model': 'continetal Gt', 'year': 2020, 'colour': 'coffee Brown'}\n"
     ]
    }
   ],
   "source": [
    "my_dict.pop(\"electric\")\n",
    "print(my_dict)"
   ]
  },
  {
   "cell_type": "code",
   "execution_count": 42,
   "id": "12043ec7",
   "metadata": {},
   "outputs": [
    {
     "name": "stdout",
     "output_type": "stream",
     "text": [
      "{}\n"
     ]
    }
   ],
   "source": [
    "my_dict.clear()\n",
    "print(my_dict)"
   ]
  },
  {
   "cell_type": "code",
   "execution_count": 43,
   "id": "5932c819",
   "metadata": {},
   "outputs": [],
   "source": [
    "del my_dict"
   ]
  },
  {
   "cell_type": "code",
   "execution_count": 45,
   "id": "7e56b72a",
   "metadata": {},
   "outputs": [
    {
     "name": "stdout",
     "output_type": "stream",
     "text": [
      "brand\n",
      "model\n",
      "electric\n",
      "year\n"
     ]
    }
   ],
   "source": [
    "for i in my_dict:\n",
    "    print(i)"
   ]
  },
  {
   "cell_type": "code",
   "execution_count": 47,
   "id": "76d92d7d",
   "metadata": {},
   "outputs": [
    {
     "name": "stdout",
     "output_type": "stream",
     "text": [
      "brand : Bentley\n",
      "model : continetal Gt\n",
      "electric : False\n",
      "year : 2023\n"
     ]
    }
   ],
   "source": [
    "for i in my_dict:\n",
    "    print(i,\":\",my_dict[i])"
   ]
  },
  {
   "cell_type": "code",
   "execution_count": 48,
   "id": "d2c4d27c",
   "metadata": {},
   "outputs": [
    {
     "name": "stdout",
     "output_type": "stream",
     "text": [
      "butter : 20\n",
      "egg : 8.0\n",
      "mango : 48\n"
     ]
    }
   ],
   "source": [
    "price={\"mango\":48,\"butter\":20,\"egg\":8.0}\n",
    "for i in sorted(price.keys()):\n",
    "    print(i,\":\",price[i])"
   ]
  },
  {
   "cell_type": "code",
   "execution_count": 51,
   "id": "8e1a5cf3",
   "metadata": {},
   "outputs": [
    {
     "name": "stdout",
     "output_type": "stream",
     "text": [
      "{'child01': {'name': 'Nikhil', 'place': 'malappuram'}, 'child02': {'name': 'adhil', 'place': 'tirur'}, 'child03': {'name': 'sinan', 'place': 'kondotty'}}\n"
     ]
    }
   ],
   "source": [
    "my_family ={\n",
    "    \"child01\":{\n",
    "        \"name\": \"Nikhil\",\n",
    "        \"place\":\"malappuram\"\n",
    "    },\n",
    "    \"child02\":{\n",
    "        \"name\": \"adhil\",\n",
    "        \"place\":\"tirur\"\n",
    "    },\n",
    "    \"child03\":{\n",
    "        \"name\": \"sinan\",\n",
    "        \"place\":\"kondotty\"\n",
    "    }\n",
    "    \n",
    "}\n",
    "print(my_family)"
   ]
  },
  {
   "cell_type": "markdown",
   "id": "c72b0f42",
   "metadata": {},
   "source": [
    "# function"
   ]
  },
  {
   "cell_type": "code",
   "execution_count": 1,
   "id": "c8e6ce11",
   "metadata": {},
   "outputs": [],
   "source": [
    "def function_name(argument):\n",
    "    #function body\n",
    "    return "
   ]
  },
  {
   "cell_type": "code",
   "execution_count": 2,
   "id": "278d3876",
   "metadata": {},
   "outputs": [
    {
     "name": "stdout",
     "output_type": "stream",
     "text": [
      "hello world\n"
     ]
    }
   ],
   "source": [
    "def greet():\n",
    "    print(\"hello world\")\n",
    "greet()"
   ]
  },
  {
   "cell_type": "code",
   "execution_count": 3,
   "id": "e8d7b921",
   "metadata": {},
   "outputs": [
    {
     "name": "stdout",
     "output_type": "stream",
     "text": [
      "8\n"
     ]
    }
   ],
   "source": [
    "#function with no argument\n",
    "def addition():\n",
    "    num1=3\n",
    "    num2=5\n",
    "    sum_=num1+num2\n",
    "    return sum_\n",
    "s= addition()\n",
    "print(s)"
   ]
  },
  {
   "cell_type": "code",
   "execution_count": 4,
   "id": "5dd86bb7",
   "metadata": {},
   "outputs": [
    {
     "name": "stdout",
     "output_type": "stream",
     "text": [
      "5\n",
      "100\n",
      "105\n"
     ]
    }
   ],
   "source": [
    "def addition():\n",
    "    n=int(input())\n",
    "    m=int(input())\n",
    "    sum_=n+m\n",
    "    return sum_\n",
    "s= addition()\n",
    "print(s)"
   ]
  },
  {
   "cell_type": "code",
   "execution_count": 9,
   "id": "80c61a8c",
   "metadata": {
    "scrolled": true
   },
   "outputs": [
    {
     "name": "stdout",
     "output_type": "stream",
     "text": [
      "9\n"
     ]
    },
    {
     "data": {
      "text/plain": [
       "5"
      ]
     },
     "execution_count": 9,
     "metadata": {},
     "output_type": "execute_result"
    }
   ],
   "source": [
    "def addition(n=7,m=2):\n",
    "    sum_=n+m\n",
    "    return sum_\n",
    "s= addition()\n",
    "print(s)\n",
    "addition(3)"
   ]
  },
  {
   "cell_type": "code",
   "execution_count": 11,
   "id": "73f83f80",
   "metadata": {},
   "outputs": [
    {
     "name": "stdout",
     "output_type": "stream",
     "text": [
      "7 -3 10\n"
     ]
    }
   ],
   "source": [
    "def calculation(n1,n2):\n",
    "    add = n1+n2\n",
    "    sub = n1-n2\n",
    "    mul  = n1*n2\n",
    "    return add,sub,mul\n",
    "a,b,c = calculation(2,5)\n",
    "print(a,b,c)"
   ]
  },
  {
   "cell_type": "code",
   "execution_count": 13,
   "id": "003683cc",
   "metadata": {},
   "outputs": [
    {
     "data": {
      "text/plain": [
       "6"
      ]
     },
     "execution_count": 13,
     "metadata": {},
     "output_type": "execute_result"
    }
   ],
   "source": [
    "def factorial(x):\n",
    "    if x==1:\n",
    "        return 1\n",
    "    else:\n",
    "        return(x*factorial(x-1))\n",
    "factorial(3)\n"
   ]
  },
  {
   "cell_type": "code",
   "execution_count": 16,
   "id": "1b819cd4",
   "metadata": {},
   "outputs": [
    {
     "name": "stdout",
     "output_type": "stream",
     "text": [
      "539\n",
      "odd\n"
     ]
    }
   ],
   "source": [
    "def oddeve():\n",
    "    n=int(input())\n",
    "    if n%2==0:\n",
    "        print(\"even\")\n",
    "    else:\n",
    "        print(\"odd\")\n",
    "oddeve()"
   ]
  },
  {
   "cell_type": "code",
   "execution_count": 18,
   "id": "84adb8f8",
   "metadata": {},
   "outputs": [
    {
     "name": "stdout",
     "output_type": "stream",
     "text": [
      "hello world \n"
     ]
    }
   ],
   "source": [
    "greet = lambda : print(\"hello world \")\n",
    "greet()\n",
    "\n"
   ]
  },
  {
   "cell_type": "code",
   "execution_count": 19,
   "id": "4fa1d054",
   "metadata": {},
   "outputs": [
    {
     "name": "stdout",
     "output_type": "stream",
     "text": [
      "9\n"
     ]
    }
   ],
   "source": [
    "import example\n",
    "\n",
    "x = example.add(4,5)\n",
    "print(x)"
   ]
  },
  {
   "cell_type": "markdown",
   "id": "bd7dbd6c",
   "metadata": {},
   "source": [
    "# condition statements"
   ]
  },
  {
   "cell_type": "code",
   "execution_count": 1,
   "id": "1d2f54f8",
   "metadata": {},
   "outputs": [
    {
     "name": "stdout",
     "output_type": "stream",
     "text": [
      "30\n"
     ]
    }
   ],
   "source": [
    "a= 30\n",
    "b=20\n",
    "print(a) if a>b else print(b)"
   ]
  },
  {
   "cell_type": "markdown",
   "id": "3225784d",
   "metadata": {},
   "source": [
    "# while loop"
   ]
  },
  {
   "cell_type": "code",
   "execution_count": 5,
   "id": "50bafab9",
   "metadata": {},
   "outputs": [
    {
     "name": "stdout",
     "output_type": "stream",
     "text": [
      "2\n",
      "3\n",
      "5\n"
     ]
    }
   ],
   "source": [
    "i = int(input())\n",
    "n = int(input())\n",
    "t =0\n",
    "while i<=n:\n",
    "    t = t + i\n",
    "    i+=1\n",
    "print(t)"
   ]
  },
  {
   "cell_type": "code",
   "execution_count": 6,
   "id": "a6debd08",
   "metadata": {},
   "outputs": [
    {
     "name": "stdout",
     "output_type": "stream",
     "text": [
      "[4, 9, 16, 49, 1]\n"
     ]
    }
   ],
   "source": [
    "mylist = [2,3,4,7,1]\n",
    "i =0 \n",
    "list2 =[]\n",
    "while i<len(mylist):\n",
    "    x = mylist[i]**2\n",
    "    list2.append(x)\n",
    "    i+=1\n",
    "print(list2)\n"
   ]
  },
  {
   "cell_type": "markdown",
   "id": "016d73ac",
   "metadata": {},
   "source": [
    "# types of importing "
   ]
  },
  {
   "cell_type": "code",
   "execution_count": 8,
   "id": "616be987",
   "metadata": {},
   "outputs": [
    {
     "name": "stdout",
     "output_type": "stream",
     "text": [
      "3.141592653589793\n"
     ]
    }
   ],
   "source": [
    "import math as m \n",
    "print(m.pi)"
   ]
  },
  {
   "cell_type": "code",
   "execution_count": 9,
   "id": "8330fae4",
   "metadata": {},
   "outputs": [
    {
     "name": "stdout",
     "output_type": "stream",
     "text": [
      "3.141592653589793\n"
     ]
    }
   ],
   "source": [
    "import math\n",
    "print(math.pi)"
   ]
  },
  {
   "cell_type": "code",
   "execution_count": 10,
   "id": "ee43fa27",
   "metadata": {},
   "outputs": [
    {
     "name": "stdout",
     "output_type": "stream",
     "text": [
      "3.141592653589793\n"
     ]
    }
   ],
   "source": [
    "from math import *\n",
    "print(pi)"
   ]
  },
  {
   "cell_type": "markdown",
   "id": "40985bc0",
   "metadata": {},
   "source": [
    "# map function "
   ]
  },
  {
   "cell_type": "code",
   "execution_count": 18,
   "id": "33974a92",
   "metadata": {},
   "outputs": [
    {
     "name": "stdout",
     "output_type": "stream",
     "text": [
      "[3, 5, 4, 9, 8]\n"
     ]
    }
   ],
   "source": [
    "def doubleven(num):\n",
    "    if num%2==0:\n",
    "        return num*2\n",
    "    else:\n",
    "        return num\n",
    "number= [3,5,2,9,4]\n",
    "result = list(map(doubleven,number))\n",
    "print(result)"
   ]
  },
  {
   "cell_type": "code",
   "execution_count": 16,
   "id": "beeb72c4",
   "metadata": {},
   "outputs": [
    {
     "name": "stdout",
     "output_type": "stream",
     "text": [
      "[9, 25, 4, 81, 16]\n"
     ]
    }
   ],
   "source": [
    "def square(x):\n",
    "    return x**2\n",
    "numbers=[3,5,2,9,4]\n",
    "\n",
    "r = map(square,numbers)\n",
    "m =list(r)\n",
    "print(m)"
   ]
  },
  {
   "cell_type": "code",
   "execution_count": 22,
   "id": "75be49a8",
   "metadata": {},
   "outputs": [
    {
     "name": "stdout",
     "output_type": "stream",
     "text": [
      "[1, 2, 3]\n",
      "<class 'list'>\n"
     ]
    }
   ],
   "source": [
    "c =[\"1\",\"2\",\"3\"]\n",
    "i = list(map(int,c))\n",
    "print(i)\n",
    "print(type(i))"
   ]
  },
  {
   "cell_type": "code",
   "execution_count": 26,
   "id": "d314c96b",
   "metadata": {},
   "outputs": [
    {
     "name": "stdout",
     "output_type": "stream",
     "text": [
      "[1, 2, 3, 4, 9, 1]\n"
     ]
    }
   ],
   "source": [
    "c =[1,2,3,-4,9,-1]\n",
    "i = list(map(abs,c))\n",
    "print(i)"
   ]
  },
  {
   "cell_type": "code",
   "execution_count": null,
   "id": "2edeb639",
   "metadata": {},
   "outputs": [],
   "source": []
  }
 ],
 "metadata": {
  "kernelspec": {
   "display_name": "Python 3 (ipykernel)",
   "language": "python",
   "name": "python3"
  },
  "language_info": {
   "codemirror_mode": {
    "name": "ipython",
    "version": 3
   },
   "file_extension": ".py",
   "mimetype": "text/x-python",
   "name": "python",
   "nbconvert_exporter": "python",
   "pygments_lexer": "ipython3",
   "version": "3.11.5"
  }
 },
 "nbformat": 4,
 "nbformat_minor": 5
}
