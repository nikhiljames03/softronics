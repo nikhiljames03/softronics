{
 "cells": [
  {
   "cell_type": "code",
   "execution_count": 2,
   "id": "5799d5f8",
   "metadata": {},
   "outputs": [
    {
     "data": {
      "text/plain": [
       "True"
      ]
     },
     "execution_count": 2,
     "metadata": {},
     "output_type": "execute_result"
    }
   ],
   "source": [
    "txt =\"fool123bar\"\n",
    "'123' in txt"
   ]
  },
  {
   "cell_type": "code",
   "execution_count": 3,
   "id": "bd1490fd",
   "metadata": {},
   "outputs": [
    {
     "data": {
      "text/plain": [
       "False"
      ]
     },
     "execution_count": 3,
     "metadata": {},
     "output_type": "execute_result"
    }
   ],
   "source": [
    "'5' in txt\n"
   ]
  },
  {
   "cell_type": "code",
   "execution_count": 4,
   "id": "059bd02c",
   "metadata": {},
   "outputs": [
    {
     "data": {
      "text/plain": [
       "1"
      ]
     },
     "execution_count": 4,
     "metadata": {},
     "output_type": "execute_result"
    }
   ],
   "source": [
    "txt.find('oo')"
   ]
  },
  {
   "cell_type": "code",
   "execution_count": 5,
   "id": "b6bcf25d",
   "metadata": {},
   "outputs": [
    {
     "data": {
      "text/plain": [
       "7"
      ]
     },
     "execution_count": 5,
     "metadata": {},
     "output_type": "execute_result"
    }
   ],
   "source": [
    "txt.index('bar')"
   ]
  },
  {
   "cell_type": "code",
   "execution_count": 6,
   "id": "0c73fdfb",
   "metadata": {},
   "outputs": [
    {
     "data": {
      "text/plain": [
       "-1"
      ]
     },
     "execution_count": 6,
     "metadata": {},
     "output_type": "execute_result"
    }
   ],
   "source": [
    "txt.find('z')"
   ]
  },
  {
   "cell_type": "code",
   "execution_count": 7,
   "id": "86fcaeb8",
   "metadata": {},
   "outputs": [
    {
     "ename": "ValueError",
     "evalue": "substring not found",
     "output_type": "error",
     "traceback": [
      "\u001b[0;31m---------------------------------------------------------------------------\u001b[0m",
      "\u001b[0;31mValueError\u001b[0m                                Traceback (most recent call last)",
      "Cell \u001b[0;32mIn[7], line 1\u001b[0m\n\u001b[0;32m----> 1\u001b[0m txt\u001b[38;5;241m.\u001b[39mindex(\u001b[38;5;124m'\u001b[39m\u001b[38;5;124my\u001b[39m\u001b[38;5;124m'\u001b[39m)\n",
      "\u001b[0;31mValueError\u001b[0m: substring not found"
     ]
    }
   ],
   "source": [
    "txt.index('y')"
   ]
  },
  {
   "cell_type": "code",
   "execution_count": 2,
   "id": "330981f1",
   "metadata": {},
   "outputs": [
    {
     "name": "stdout",
     "output_type": "stream",
     "text": [
      "Not match!\n"
     ]
    }
   ],
   "source": [
    "import re\n",
    "if re.search('123',txt):\n",
    "    print('match!')\n",
    "else:\n",
    "    print('Not match!')"
   ]
  },
  {
   "cell_type": "code",
   "execution_count": 9,
   "id": "ca7c79be",
   "metadata": {},
   "outputs": [
    {
     "data": {
      "text/plain": [
       "<re.Match object; span=(4, 7), match='123'>"
      ]
     },
     "execution_count": 9,
     "metadata": {},
     "output_type": "execute_result"
    }
   ],
   "source": [
    "re.search('123',txt)"
   ]
  },
  {
   "cell_type": "code",
   "execution_count": 11,
   "id": "15d529bf",
   "metadata": {},
   "outputs": [
    {
     "name": "stdout",
     "output_type": "stream",
     "text": [
      "Not match!\n"
     ]
    }
   ],
   "source": [
    "if re.search('[0-9]0-9]0-9]',txt):\n",
    "    print('match!')\n",
    "else:\n",
    "    print('Not match!')"
   ]
  },
  {
   "cell_type": "code",
   "execution_count": 13,
   "id": "ac740091",
   "metadata": {},
   "outputs": [
    {
     "name": "stdout",
     "output_type": "stream",
     "text": [
      "Not match!\n"
     ]
    }
   ],
   "source": [
    "txt = \"foo1002bar\"\n",
    "if re.search('[0-9]0-9]0-9][0-9]',txt):\n",
    "    print('match!')\n",
    "else:\n",
    "    print('Not match!')"
   ]
  },
  {
   "cell_type": "code",
   "execution_count": 14,
   "id": "97d4b290",
   "metadata": {},
   "outputs": [
    {
     "name": "stdout",
     "output_type": "stream",
     "text": [
      "postion:  3\n"
     ]
    }
   ],
   "source": [
    "txt = 'the rain in spain '\n",
    "x = re.search(\"\\s\",txt)\n",
    "print(\"postion: \",x.start())"
   ]
  },
  {
   "cell_type": "code",
   "execution_count": 16,
   "id": "3a09be08",
   "metadata": {},
   "outputs": [
    {
     "name": "stdout",
     "output_type": "stream",
     "text": [
      "4\n"
     ]
    }
   ],
   "source": [
    "x= re.search('..in',txt)\n",
    "print(x.start())"
   ]
  },
  {
   "cell_type": "code",
   "execution_count": 19,
   "id": "eed47e41",
   "metadata": {},
   "outputs": [
    {
     "name": "stdout",
     "output_type": "stream",
     "text": [
      "1st group() cats are smater than dogs\n",
      "2st group() cats\n",
      "3st group() smater than\n"
     ]
    }
   ],
   "source": [
    "txt = \"cats are smater than dogs\"\n",
    "s = re.search('(.*) are (.*) .*',txt,re.M|re.I)\n",
    "if s:\n",
    "    print('1st group()',s.group())\n",
    "    print('2st group()',s.group(1))\n",
    "    print('3st group()',s.group(2))\n",
    "else:\n",
    "    print(\"nothing found\")"
   ]
  },
  {
   "cell_type": "code",
   "execution_count": 20,
   "id": "18a71059",
   "metadata": {},
   "outputs": [
    {
     "name": "stdout",
     "output_type": "stream",
     "text": [
      "kl-53-by-9909\n",
      "match\n"
     ]
    }
   ],
   "source": [
    "n = input()\n",
    "pattern = '[A-Za-z]{2}-[0-8][1-9]-[A-Za-z]{2}-[0-9]{4}'\n",
    "if re.search(pattern,n):\n",
    "    print(\"match\")\n",
    "else:\n",
    "    print(\"not match!\")"
   ]
  },
  {
   "cell_type": "code",
   "execution_count": 22,
   "id": "540e756b",
   "metadata": {},
   "outputs": [
    {
     "name": "stdout",
     "output_type": "stream",
     "text": [
      "not match!\n"
     ]
    }
   ],
   "source": [
    "x ='is'\n",
    "y ='cookie is tasty'\n",
    "if re.match(x,y):\n",
    "    print(\"match\")\n",
    "else:\n",
    "    print(\"not match!\")"
   ]
  },
  {
   "cell_type": "code",
   "execution_count": 23,
   "id": "146968d2",
   "metadata": {},
   "outputs": [
    {
     "name": "stdout",
     "output_type": "stream",
     "text": [
      "match\n"
     ]
    }
   ],
   "source": [
    "pattern = '^a...s$'\n",
    "c = 'absys'\n",
    "if re.match(pattern,c):\n",
    "    print(\"match\")\n",
    "else:\n",
    "    print(\"not match!\")"
   ]
  },
  {
   "cell_type": "code",
   "execution_count": 3,
   "id": "09f18d75",
   "metadata": {},
   "outputs": [
    {
     "name": "stdout",
     "output_type": "stream",
     "text": [
      "[' rai', 'spai']\n"
     ]
    }
   ],
   "source": [
    "txt = \"the rain in spain\"\n",
    "x = re.findall('..ai',txt)\n",
    "print(x)"
   ]
  },
  {
   "cell_type": "code",
   "execution_count": 5,
   "id": "8c6d17f0",
   "metadata": {},
   "outputs": [
    {
     "name": "stdout",
     "output_type": "stream",
     "text": [
      "[]\n"
     ]
    }
   ],
   "source": [
    "x = re.findall('portugal',txt)\n",
    "print(x)"
   ]
  },
  {
   "cell_type": "code",
   "execution_count": 6,
   "id": "bcf75322",
   "metadata": {},
   "outputs": [
    {
     "name": "stdout",
     "output_type": "stream",
     "text": [
      "['83', '21', '87']\n"
     ]
    }
   ],
   "source": [
    "string =\"hello 83 hi 21 how 87\"\n",
    "pattern = '\\d+'\n",
    "x = re.findall(pattern,string)\n",
    "print(x)"
   ]
  },
  {
   "cell_type": "code",
   "execution_count": 7,
   "id": "48d50d18",
   "metadata": {},
   "outputs": [
    {
     "name": "stdout",
     "output_type": "stream",
     "text": [
      "alice83@gmail.com\n",
      "sed@abc.com\n"
     ]
    }
   ],
   "source": [
    "stri = 'purple alice83@gmail.com helloworld sed@abc.com'\n",
    "emails = re.findall(r'[\\w\\.-]+@[\\w\\.-]+',stri)\n",
    "for email in emails:\n",
    "    print(email)"
   ]
  },
  {
   "cell_type": "code",
   "execution_count": 9,
   "id": "1f553c12",
   "metadata": {},
   "outputs": [
    {
     "name": "stdout",
     "output_type": "stream",
     "text": [
      "<callable_iterator object at 0x10621cfd0>\n",
      "<re.Match object; span=(7, 24), match='alice83@gmail.com'>\n",
      "<re.Match object; span=(36, 47), match='sed@abc.com'>\n"
     ]
    }
   ],
   "source": [
    "stri = 'purple alice83@gmail.com helloworld sed@abc.com'\n",
    "emails = re.finditer(r'[\\w\\.-]+@[\\w\\.-]+',stri)\n",
    "print(emails)\n",
    "for email in emails:\n",
    "    print(email)"
   ]
  },
  {
   "cell_type": "code",
   "execution_count": 10,
   "id": "4e3b9845",
   "metadata": {},
   "outputs": [
    {
     "name": "stdout",
     "output_type": "stream",
     "text": [
      "['the', 'rain', 'in', 'spain']\n"
     ]
    }
   ],
   "source": [
    "txt = 'the rain in spain'\n",
    "x = re.split('\\s',txt)\n",
    "print(x)"
   ]
  },
  {
   "cell_type": "code",
   "execution_count": 11,
   "id": "afdd52da",
   "metadata": {},
   "outputs": [
    {
     "name": "stdout",
     "output_type": "stream",
     "text": [
      "['the', 'rain', 'in spain']\n"
     ]
    }
   ],
   "source": [
    "txt = 'the rain in spain'\n",
    "x = re.split('\\s',txt,2)\n",
    "print(x)"
   ]
  },
  {
   "cell_type": "code",
   "execution_count": 12,
   "id": "2f4f3b10",
   "metadata": {},
   "outputs": [
    {
     "name": "stdout",
     "output_type": "stream",
     "text": [
      "['Twelve ', ' six ', '']\n"
     ]
    }
   ],
   "source": [
    "string ='Twelve 84 six 46'\n",
    "x = re.split('\\d+',string)\n",
    "print(x)"
   ]
  },
  {
   "cell_type": "code",
   "execution_count": 14,
   "id": "b98b52e1",
   "metadata": {},
   "outputs": [
    {
     "name": "stdout",
     "output_type": "stream",
     "text": [
      "the-rain-in-spain\n"
     ]
    }
   ],
   "source": [
    "txt = 'the rain in spain'\n",
    "x = re.sub('\\s','-',txt)\n",
    "print(x)"
   ]
  },
  {
   "cell_type": "code",
   "execution_count": 15,
   "id": "59c56672",
   "metadata": {},
   "outputs": [
    {
     "name": "stdout",
     "output_type": "stream",
     "text": [
      "the-rain-in spain\n"
     ]
    }
   ],
   "source": [
    "txt = 'the rain in spain'\n",
    "x = re.sub('\\s','-',txt,2)\n",
    "print(x)"
   ]
  },
  {
   "cell_type": "code",
   "execution_count": 16,
   "id": "f7c9465a",
   "metadata": {},
   "outputs": [
    {
     "name": "stdout",
     "output_type": "stream",
     "text": [
      "Twelve 84den43 six 46\n"
     ]
    }
   ],
   "source": [
    "string ='Twelve 84\\\n",
    "den43 \\n six 46'\n",
    "pattern= \"\\s+\"\n",
    "replace = ' '\n",
    "x =re.sub(pattern,replace,string)\n",
    "print(x)"
   ]
  },
  {
   "cell_type": "code",
   "execution_count": 23,
   "id": "30763f22",
   "metadata": {},
   "outputs": [
    {
     "name": "stdout",
     "output_type": "stream",
     "text": [
      "his s--jects are --est\n"
     ]
    }
   ],
   "source": [
    "print(re.sub('ub','--','his subjects are UBest',flags=re.I))"
   ]
  },
  {
   "cell_type": "code",
   "execution_count": 24,
   "id": "49954431",
   "metadata": {},
   "outputs": [
    {
     "name": "stdout",
     "output_type": "stream",
     "text": [
      "his s--jects are UBest\n"
     ]
    }
   ],
   "source": [
    "print(re.sub('ub','--','his subjects are UBest'))"
   ]
  },
  {
   "cell_type": "code",
   "execution_count": null,
   "id": "411335bd",
   "metadata": {},
   "outputs": [],
   "source": []
  }
 ],
 "metadata": {
  "kernelspec": {
   "display_name": "Python 3 (ipykernel)",
   "language": "python",
   "name": "python3"
  },
  "language_info": {
   "codemirror_mode": {
    "name": "ipython",
    "version": 3
   },
   "file_extension": ".py",
   "mimetype": "text/x-python",
   "name": "python",
   "nbconvert_exporter": "python",
   "pygments_lexer": "ipython3",
   "version": "3.11.5"
  }
 },
 "nbformat": 4,
 "nbformat_minor": 5
}
