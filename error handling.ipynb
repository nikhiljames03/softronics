{
 "cells": [
  {
   "cell_type": "code",
   "execution_count": 1,
   "id": "b4a785cd",
   "metadata": {},
   "outputs": [
    {
     "ename": "SyntaxError",
     "evalue": "expected ':' (4273791456.py, line 3)",
     "output_type": "error",
     "traceback": [
      "\u001b[0;36m  Cell \u001b[0;32mIn[1], line 3\u001b[0;36m\u001b[0m\n\u001b[0;31m    if i==5\u001b[0m\n\u001b[0m           ^\u001b[0m\n\u001b[0;31mSyntaxError\u001b[0m\u001b[0;31m:\u001b[0m expected ':'\n"
     ]
    }
   ],
   "source": [
    "#syntax erorr\n",
    "i =5\n",
    "if i==5\n",
    "    print(i)"
   ]
  },
  {
   "cell_type": "markdown",
   "id": "16d517f1",
   "metadata": {},
   "source": [
    "# try except()\n"
   ]
  },
  {
   "cell_type": "code",
   "execution_count": 20,
   "id": "abe785fe",
   "metadata": {},
   "outputs": [
    {
     "name": "stdout",
     "output_type": "stream",
     "text": [
      "started\n"
     ]
    },
    {
     "ename": "TypeError",
     "evalue": "unsupported operand type(s) for /: 'int' and 'str'",
     "output_type": "error",
     "traceback": [
      "\u001b[0;31m---------------------------------------------------------------------------\u001b[0m",
      "\u001b[0;31mTypeError\u001b[0m                                 Traceback (most recent call last)",
      "Cell \u001b[0;32mIn[20], line 6\u001b[0m\n\u001b[1;32m      4\u001b[0m     \u001b[38;5;28mprint\u001b[39m(result)\n\u001b[1;32m      5\u001b[0m     \u001b[38;5;28mprint\u001b[39m(\u001b[38;5;124m\"\u001b[39m\u001b[38;5;124mover\u001b[39m\u001b[38;5;124m\"\u001b[39m)\n\u001b[0;32m----> 6\u001b[0m divide(\u001b[38;5;241m4\u001b[39m,\u001b[38;5;124m\"\u001b[39m\u001b[38;5;124mabc\u001b[39m\u001b[38;5;124m\"\u001b[39m)\n",
      "Cell \u001b[0;32mIn[20], line 3\u001b[0m, in \u001b[0;36mdivide\u001b[0;34m(numer, diono)\u001b[0m\n\u001b[1;32m      1\u001b[0m \u001b[38;5;28;01mdef\u001b[39;00m \u001b[38;5;21mdivide\u001b[39m(numer,diono):\n\u001b[1;32m      2\u001b[0m     \u001b[38;5;28mprint\u001b[39m(\u001b[38;5;124m\"\u001b[39m\u001b[38;5;124mstarted\u001b[39m\u001b[38;5;124m\"\u001b[39m)\n\u001b[0;32m----> 3\u001b[0m     result \u001b[38;5;241m=\u001b[39m numer\u001b[38;5;241m/\u001b[39mdiono\n\u001b[1;32m      4\u001b[0m     \u001b[38;5;28mprint\u001b[39m(result)\n\u001b[1;32m      5\u001b[0m     \u001b[38;5;28mprint\u001b[39m(\u001b[38;5;124m\"\u001b[39m\u001b[38;5;124mover\u001b[39m\u001b[38;5;124m\"\u001b[39m)\n",
      "\u001b[0;31mTypeError\u001b[0m: unsupported operand type(s) for /: 'int' and 'str'"
     ]
    }
   ],
   "source": [
    "def divide(numer,diono):\n",
    "    print(\"started\")\n",
    "    result = numer/diono\n",
    "    print(result)\n",
    "    print(\"over\")\n",
    "divide(4,\"abc\")\n"
   ]
  },
  {
   "cell_type": "code",
   "execution_count": 19,
   "id": "4ade8f40",
   "metadata": {},
   "outputs": [
    {
     "name": "stdout",
     "output_type": "stream",
     "text": [
      "started\n",
      "0.42857142857142855\n",
      "over\n",
      "started\n",
      "cannot divide by zero\n",
      "started\n",
      "cannot divide by zero\n"
     ]
    }
   ],
   "source": [
    "def divide(numer,diono):\n",
    "    try:\n",
    "        print(\"started\")\n",
    "        result = numer/diono\n",
    "        print(result)\n",
    "        print(\"over\")\n",
    "    except :\n",
    "        if ZeroDivisionError:\n",
    "            print(\"cannot divide by zero\")\n",
    "        elif TypeError:\n",
    "            print(\"check your input\")\n",
    "        else:\n",
    "            print(\"some other error\")\n",
    "divide(3,7)\n",
    "divide(3,0)\n",
    "divide(2,\"abc\")        "
   ]
  },
  {
   "cell_type": "code",
   "execution_count": 21,
   "id": "696ba53d",
   "metadata": {},
   "outputs": [
    {
     "ename": "NameError",
     "evalue": "name 'u' is not defined",
     "output_type": "error",
     "traceback": [
      "\u001b[0;31m---------------------------------------------------------------------------\u001b[0m",
      "\u001b[0;31mNameError\u001b[0m                                 Traceback (most recent call last)",
      "Cell \u001b[0;32mIn[21], line 1\u001b[0m\n\u001b[0;32m----> 1\u001b[0m \u001b[38;5;28mprint\u001b[39m(u)\n",
      "\u001b[0;31mNameError\u001b[0m: name 'u' is not defined"
     ]
    }
   ],
   "source": [
    "print(u)"
   ]
  },
  {
   "cell_type": "code",
   "execution_count": 27,
   "id": "e4056286",
   "metadata": {},
   "outputs": [
    {
     "name": "stdout",
     "output_type": "stream",
     "text": [
      "0\n",
      "Do Nothing\n"
     ]
    }
   ],
   "source": [
    "w =0\n",
    "try:\n",
    "    print(w)\n",
    "except:\n",
    "    print(\"you can leave\")\n",
    "finally:\n",
    "    print(\"Do Nothing\")"
   ]
  },
  {
   "cell_type": "code",
   "execution_count": 1,
   "id": "58a82547",
   "metadata": {},
   "outputs": [
    {
     "name": "stdout",
     "output_type": "stream",
     "text": [
      "-1\n"
     ]
    },
    {
     "ename": "Exception",
     "evalue": "sorry no number below zero",
     "output_type": "error",
     "traceback": [
      "\u001b[0;31m---------------------------------------------------------------------------\u001b[0m",
      "\u001b[0;31mException\u001b[0m                                 Traceback (most recent call last)",
      "Cell \u001b[0;32mIn[1], line 3\u001b[0m\n\u001b[1;32m      1\u001b[0m n \u001b[38;5;241m=\u001b[39m \u001b[38;5;28mint\u001b[39m(\u001b[38;5;28minput\u001b[39m())\n\u001b[1;32m      2\u001b[0m \u001b[38;5;28;01mif\u001b[39;00m n\u001b[38;5;241m<\u001b[39m\u001b[38;5;241m0\u001b[39m :\n\u001b[0;32m----> 3\u001b[0m     \u001b[38;5;28;01mraise\u001b[39;00m \u001b[38;5;167;01mException\u001b[39;00m(\u001b[38;5;124m\"\u001b[39m\u001b[38;5;124msorry no number below zero\u001b[39m\u001b[38;5;124m\"\u001b[39m)\n",
      "\u001b[0;31mException\u001b[0m: sorry no number below zero"
     ]
    }
   ],
   "source": [
    "n = int(input())\n",
    "if n<0 :\n",
    "    raise Exception(\"sorry no number below zero\")\n",
    "    "
   ]
  },
  {
   "cell_type": "code",
   "execution_count": 10,
   "id": "8b548c1c",
   "metadata": {},
   "outputs": [
    {
     "name": "stdout",
     "output_type": "stream",
     "text": [
      "5\n"
     ]
    },
    {
     "ename": "TypeError",
     "evalue": "sorry no number below zero",
     "output_type": "error",
     "traceback": [
      "\u001b[0;31m---------------------------------------------------------------------------\u001b[0m",
      "\u001b[0;31mTypeError\u001b[0m                                 Traceback (most recent call last)",
      "Cell \u001b[0;32mIn[10], line 3\u001b[0m\n\u001b[1;32m      1\u001b[0m n \u001b[38;5;241m=\u001b[39m \u001b[38;5;28minput\u001b[39m()\n\u001b[1;32m      2\u001b[0m \u001b[38;5;28;01mif\u001b[39;00m \u001b[38;5;129;01mnot\u001b[39;00m \u001b[38;5;28mtype\u001b[39m(n) \u001b[38;5;129;01mis\u001b[39;00m \u001b[38;5;28mint\u001b[39m :\n\u001b[0;32m----> 3\u001b[0m     \u001b[38;5;28;01mraise\u001b[39;00m \u001b[38;5;167;01mTypeError\u001b[39;00m(\u001b[38;5;124m\"\u001b[39m\u001b[38;5;124msorry no number below zero\u001b[39m\u001b[38;5;124m\"\u001b[39m)\n",
      "\u001b[0;31mTypeError\u001b[0m: sorry no number below zero"
     ]
    }
   ],
   "source": [
    "n = input()\n",
    "if not type(n) is int :\n",
    "    raise TypeError(\"sorry no number below zero\")\n",
    "    "
   ]
  },
  {
   "cell_type": "code",
   "execution_count": 35,
   "id": "990cd977",
   "metadata": {},
   "outputs": [
    {
     "name": "stdout",
     "output_type": "stream",
     "text": [
      "input an integer:d\n",
      "thats not an integer, try again\n",
      "input an integer:r\n",
      "thats not an integer, try again\n",
      "input an integer:3\n",
      "you enetered: 3\n"
     ]
    }
   ],
   "source": [
    "while True:\n",
    "    try:\n",
    "        value = int(input(\"input an integer:\"))\n",
    "        print(\"you enetered:\",value)\n",
    "        break\n",
    "    except:\n",
    "        print(\"thats not an integer, try again\")\n",
    "\n"
   ]
  },
  {
   "cell_type": "markdown",
   "id": "827617c1",
   "metadata": {},
   "source": [
    "# file handling\n"
   ]
  },
  {
   "cell_type": "code",
   "execution_count": 36,
   "id": "f2ba798e",
   "metadata": {},
   "outputs": [
    {
     "name": "stdout",
     "output_type": "stream",
     "text": [
      "/Users/nikhiljames/Documents/Python AU\n"
     ]
    }
   ],
   "source": [
    "import os \n",
    "s = os.getcwd()\n",
    "print(s)"
   ]
  },
  {
   "cell_type": "code",
   "execution_count": 38,
   "id": "7f435af8",
   "metadata": {},
   "outputs": [
    {
     "name": "stdout",
     "output_type": "stream",
     "text": [
      "/Users/nikhiljames/Documents/untitled folder\n"
     ]
    }
   ],
   "source": [
    "os.chdir('/Users/nikhiljames/Documents/untitled folder')\n",
    "print(os.getcwd())"
   ]
  },
  {
   "cell_type": "code",
   "execution_count": 41,
   "id": "dc53321a",
   "metadata": {},
   "outputs": [
    {
     "ename": "FileExistsError",
     "evalue": "[Errno 17] File exists: '/Users/nikhiljames/Documents/untitled folder1//folder1'",
     "output_type": "error",
     "traceback": [
      "\u001b[0;31m---------------------------------------------------------------------------\u001b[0m",
      "\u001b[0;31mFileExistsError\u001b[0m                           Traceback (most recent call last)",
      "Cell \u001b[0;32mIn[41], line 1\u001b[0m\n\u001b[0;32m----> 1\u001b[0m os\u001b[38;5;241m.\u001b[39mmakedirs(\u001b[38;5;124m'\u001b[39m\u001b[38;5;124m/Users/nikhiljames/Documents/untitled folder1//folder1\u001b[39m\u001b[38;5;124m'\u001b[39m)\n\u001b[1;32m      2\u001b[0m os\u001b[38;5;241m.\u001b[39mchdir(\u001b[38;5;124m'\u001b[39m\u001b[38;5;124m/Users/nikhiljames/Documents/untitled folder1//folder1\u001b[39m\u001b[38;5;124m'\u001b[39m)\n\u001b[1;32m      3\u001b[0m \u001b[38;5;28mprint\u001b[39m(os\u001b[38;5;241m.\u001b[39mgetcwd())\n",
      "File \u001b[0;32m<frozen os>:225\u001b[0m, in \u001b[0;36mmakedirs\u001b[0;34m(name, mode, exist_ok)\u001b[0m\n",
      "\u001b[0;31mFileExistsError\u001b[0m: [Errno 17] File exists: '/Users/nikhiljames/Documents/untitled folder1//folder1'"
     ]
    }
   ],
   "source": [
    "os.makedirs('/Users/nikhiljames/Documents/untitled folder1//folder1')"
   ]
  },
  {
   "cell_type": "code",
   "execution_count": 42,
   "id": "e841c716",
   "metadata": {},
   "outputs": [
    {
     "name": "stdout",
     "output_type": "stream",
     "text": [
      "/Users/nikhiljames/Documents/untitled folder1/folder1\n"
     ]
    }
   ],
   "source": [
    "os.chdir('/Users/nikhiljames/Documents/untitled folder1//folder1')\n",
    "print(os.getcwd())"
   ]
  },
  {
   "cell_type": "code",
   "execution_count": 43,
   "id": "b8702e45",
   "metadata": {},
   "outputs": [
    {
     "name": "stdout",
     "output_type": "stream",
     "text": [
      "/Users/nikhiljames/Documents\n"
     ]
    }
   ],
   "source": [
    "os.chdir(\"..\")\n",
    "os.chdir(\"..\")\n",
    "print(os.getcwd())"
   ]
  },
  {
   "cell_type": "code",
   "execution_count": 44,
   "id": "6f6be8af",
   "metadata": {},
   "outputs": [],
   "source": [
    "os.removedirs('untitled folder1//folder1')\n"
   ]
  },
  {
   "cell_type": "code",
   "execution_count": 45,
   "id": "c0692379",
   "metadata": {},
   "outputs": [
    {
     "ename": "FileNotFoundError",
     "evalue": "[Errno 2] No such file or directory: '/Users/nikhiljames/Documents/untitled folder1//folder1'",
     "output_type": "error",
     "traceback": [
      "\u001b[0;31m---------------------------------------------------------------------------\u001b[0m",
      "\u001b[0;31mFileNotFoundError\u001b[0m                         Traceback (most recent call last)",
      "Cell \u001b[0;32mIn[45], line 1\u001b[0m\n\u001b[0;32m----> 1\u001b[0m os\u001b[38;5;241m.\u001b[39mchdir(\u001b[38;5;124m'\u001b[39m\u001b[38;5;124m/Users/nikhiljames/Documents/untitled folder1//folder1\u001b[39m\u001b[38;5;124m'\u001b[39m)\n",
      "\u001b[0;31mFileNotFoundError\u001b[0m: [Errno 2] No such file or directory: '/Users/nikhiljames/Documents/untitled folder1//folder1'"
     ]
    }
   ],
   "source": [
    "os.chdir('/Users/nikhiljames/Documents/untitled folder1//folder1')"
   ]
  },
  {
   "cell_type": "code",
   "execution_count": 46,
   "id": "6dd53c66",
   "metadata": {},
   "outputs": [
    {
     "name": "stdout",
     "output_type": "stream",
     "text": [
      "/Users/nikhiljames/Documents\n"
     ]
    }
   ],
   "source": [
    "print(os.getcwd())"
   ]
  },
  {
   "cell_type": "code",
   "execution_count": 47,
   "id": "a7ae6a48",
   "metadata": {},
   "outputs": [
    {
     "name": "stdout",
     "output_type": "stream",
     "text": [
      "/Users/nikhiljames/Documents/Python AU\n"
     ]
    }
   ],
   "source": [
    "os.chdir('/Users/nikhiljames/Documents/Python AU')\n",
    "print(os.getcwd())"
   ]
  },
  {
   "cell_type": "code",
   "execution_count": 49,
   "id": "8e4c7e35",
   "metadata": {},
   "outputs": [
    {
     "name": "stdout",
     "output_type": "stream",
     "text": [
      "/Users/nikhiljames/Documents/Python AU\n"
     ]
    }
   ],
   "source": [
    "cwd = os.getcwd()\n",
    "print(cwd)"
   ]
  },
  {
   "cell_type": "code",
   "execution_count": 50,
   "id": "8675338b",
   "metadata": {},
   "outputs": [
    {
     "name": "stdout",
     "output_type": "stream",
     "text": [
      "/Users/nikhiljames/Documents/Python AU/ex/w2\n"
     ]
    }
   ],
   "source": [
    "path =os.path.join(cwd,'ex','w2')\n",
    "print(path)"
   ]
  },
  {
   "cell_type": "code",
   "execution_count": 51,
   "id": "318fa56c",
   "metadata": {},
   "outputs": [],
   "source": [
    "os.makedirs('/Users/nikhiljames/Documents/Python AU/ex/w2')"
   ]
  },
  {
   "cell_type": "code",
   "execution_count": 52,
   "id": "ebfcf7bc",
   "metadata": {},
   "outputs": [],
   "source": [
    "os.chdir('/Users/nikhiljames/Documents/Python AU/ex/w2')"
   ]
  },
  {
   "cell_type": "code",
   "execution_count": 53,
   "id": "f521b46d",
   "metadata": {},
   "outputs": [
    {
     "name": "stdout",
     "output_type": "stream",
     "text": [
      "/Users/nikhiljames/Documents/Python AU/ex/w2\n"
     ]
    }
   ],
   "source": [
    "print(os.getcwd())"
   ]
  },
  {
   "cell_type": "code",
   "execution_count": 59,
   "id": "4c4a70c5",
   "metadata": {},
   "outputs": [
    {
     "name": "stdout",
     "output_type": "stream",
     "text": [
      "hello.py\n",
      "Lab Sheet 11.docx\n",
      ".DS_Store\n",
      "Lab Sheet 10.docx\n",
      "Python Basics Exercises.docx\n",
      "ex\n",
      "Lab sheet 7.docx\n",
      "__pycache__\n",
      "assgn 09-01-24.ipynb\n",
      "Lab Sheet5.pdf\n",
      "LabSheet1.pdf\n",
      "Lab12.docx\n",
      "Lab- Sheet 8 - Functions.pdf\n",
      "example.py\n",
      "Tutorial 1.pdf\n",
      ".ipynb_checkpoints\n",
      "list assginment.ipynb\n",
      "Lab-2.pdf\n",
      "Softronics.ipynb\n",
      "Lab 6.pdf\n",
      "error handling.ipynb\n",
      "LabSheet 4.pdf\n"
     ]
    }
   ],
   "source": [
    "os.chdir('/Users/nikhiljames/Documents/Python AU')\n",
    "cwd = os.getcwd()\n",
    "files =os.listdir(cwd)\n",
    "for x in files:\n",
    "    print(x)"
   ]
  },
  {
   "cell_type": "code",
   "execution_count": 60,
   "id": "c10a2280",
   "metadata": {},
   "outputs": [
    {
     "name": "stdout",
     "output_type": "stream",
     "text": [
      "file doesnt exist\n"
     ]
    }
   ],
   "source": [
    "file = 'todo.txt'\n",
    "if os.path.exists(file):\n",
    "    print('file exists')\n",
    "else:\n",
    "    print('file doesnt exist')"
   ]
  },
  {
   "cell_type": "code",
   "execution_count": 62,
   "id": "f9f43623",
   "metadata": {},
   "outputs": [
    {
     "name": "stdout",
     "output_type": "stream",
     "text": [
      "it is directery\n"
     ]
    }
   ],
   "source": [
    "path = 'ex/w2'\n",
    "if os.path.isfile(path):\n",
    "    print('it is a file')\n",
    "elif os.path.isdir(path):\n",
    "    print('it is directery')\n",
    "else:\n",
    "    print(\"none\")\n",
    "    "
   ]
  },
  {
   "cell_type": "code",
   "execution_count": 64,
   "id": "0f90f5f2",
   "metadata": {},
   "outputs": [],
   "source": [
    "filename = \"hello_world.py\"\n",
    "f = open(filename,'w')\n",
    "f.write('print(\"hello world !\")')\n",
    "f.close()"
   ]
  },
  {
   "cell_type": "code",
   "execution_count": 67,
   "id": "72c3fb61",
   "metadata": {},
   "outputs": [
    {
     "name": "stdout",
     "output_type": "stream",
     "text": [
      "this is the first line\n",
      "<class 'str'>\n"
     ]
    }
   ],
   "source": [
    "import os \n",
    "file_path = os.path.join('newfolder.txt')\n",
    "f =open(file_path,'r')\n",
    "items = f.read()\n",
    "print(items)\n",
    "print(type(items))\n",
    "f.close()"
   ]
  },
  {
   "cell_type": "code",
   "execution_count": 68,
   "id": "828f765e",
   "metadata": {},
   "outputs": [
    {
     "name": "stdout",
     "output_type": "stream",
     "text": [
      "['this is the first line']\n",
      "<class 'list'>\n"
     ]
    }
   ],
   "source": [
    "file_path = os.path.join('newfolder.txt')\n",
    "f =open(file_path,'r')\n",
    "items = f.readlines()\n",
    "print(items)\n",
    "print(type(items))\n",
    "f.close()"
   ]
  },
  {
   "cell_type": "code",
   "execution_count": 71,
   "id": "642cfeb8",
   "metadata": {},
   "outputs": [
    {
     "name": "stdout",
     "output_type": "stream",
     "text": [
      "this is the first line\n",
      "How are you\n",
      "Am fine\n",
      "\n"
     ]
    }
   ],
   "source": [
    "file_path = os.path.join('newfolder.txt')\n",
    "f =open(file_path,'r')\n",
    "items = f.readlines()\n",
    "for i in items:\n",
    "    print(i.strip())\n",
    "f.close()"
   ]
  },
  {
   "cell_type": "code",
   "execution_count": null,
   "id": "ad191d89",
   "metadata": {},
   "outputs": [],
   "source": []
  }
 ],
 "metadata": {
  "kernelspec": {
   "display_name": "Python 3 (ipykernel)",
   "language": "python",
   "name": "python3"
  },
  "language_info": {
   "codemirror_mode": {
    "name": "ipython",
    "version": 3
   },
   "file_extension": ".py",
   "mimetype": "text/x-python",
   "name": "python",
   "nbconvert_exporter": "python",
   "pygments_lexer": "ipython3",
   "version": "3.11.5"
  }
 },
 "nbformat": 4,
 "nbformat_minor": 5
}
