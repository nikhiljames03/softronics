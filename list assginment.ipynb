{
 "cells": [
  {
   "cell_type": "markdown",
   "id": "afcb0940",
   "metadata": {},
   "source": [
    "# Lab List"
   ]
  },
  {
   "cell_type": "markdown",
   "id": "8222d3f6",
   "metadata": {},
   "source": [
    "# Q1"
   ]
  },
  {
   "cell_type": "code",
   "execution_count": 12,
   "id": "0900551b",
   "metadata": {},
   "outputs": [
    {
     "name": "stdout",
     "output_type": "stream",
     "text": [
      "4\n",
      "4\n",
      "8\n",
      "6\n",
      "0\n",
      "18\n"
     ]
    }
   ],
   "source": [
    "n = int(input())\n",
    "s =list()\n",
    "for i in range(0,n):\n",
    "    m =int(input())\n",
    "    s.append(m)\n",
    "result = 0\n",
    "i=0\n",
    "while i<n:\n",
    "    result = result+s[i]\n",
    "    i+=1\n",
    "print(result)   "
   ]
  },
  {
   "cell_type": "markdown",
   "id": "d934b624",
   "metadata": {},
   "source": [
    "# Q2"
   ]
  },
  {
   "cell_type": "code",
   "execution_count": 15,
   "id": "02bc9af8",
   "metadata": {},
   "outputs": [
    {
     "name": "stdout",
     "output_type": "stream",
     "text": [
      "hello am nikhil \n",
      "['nikhil', 'am', 'hello']\n",
      "<class 'list'>\n"
     ]
    }
   ],
   "source": [
    "n = input().split()\n",
    "s =n[::-1]\n",
    "print(s)\n",
    "print(type(s))"
   ]
  },
  {
   "cell_type": "markdown",
   "id": "611af5eb",
   "metadata": {},
   "source": [
    "# Q3\n"
   ]
  },
  {
   "cell_type": "code",
   "execution_count": 32,
   "id": "e2397103",
   "metadata": {},
   "outputs": [
    {
     "name": "stdout",
     "output_type": "stream",
     "text": [
      "['Mike', 'Emma', 'Kelly', 'Brad']\n"
     ]
    }
   ],
   "source": [
    "list1 = [\"Mike\", \"\", \"Emma\", \"Kelly\", \"\", \"Brad\"]\n",
    "result = list(filter(None,list1))\n",
    "print(result)"
   ]
  },
  {
   "cell_type": "markdown",
   "id": "c382861c",
   "metadata": {},
   "source": [
    "# Q4"
   ]
  },
  {
   "cell_type": "code",
   "execution_count": 1,
   "id": "6c7bdd0c",
   "metadata": {
    "scrolled": true
   },
   "outputs": [
    {
     "name": "stdout",
     "output_type": "stream",
     "text": [
      "[10, 20, [300, 400, [5000, 6000, 7000], 500], 30, 40]\n"
     ]
    }
   ],
   "source": [
    "list1 = [10, 20, [300, 400, [5000, 6000], 500], 30, 40]\n",
    "list1[2][2].insert(2, 7000)\n",
    "print(list1)"
   ]
  },
  {
   "cell_type": "markdown",
   "id": "138b5266",
   "metadata": {},
   "source": [
    "# Q5"
   ]
  },
  {
   "cell_type": "code",
   "execution_count": 39,
   "id": "eb6047e3",
   "metadata": {},
   "outputs": [
    {
     "name": "stdout",
     "output_type": "stream",
     "text": [
      "[5, 10, 15, 200, 25, 50, 20]\n"
     ]
    }
   ],
   "source": [
    "list1 = [5, 10, 15, 20, 25, 50, 20]\n",
    "target = list1.index(20)\n",
    "list1[target]=200\n",
    "print(list1)"
   ]
  },
  {
   "cell_type": "markdown",
   "id": "d29e5251",
   "metadata": {},
   "source": [
    "# Q6"
   ]
  },
  {
   "cell_type": "code",
   "execution_count": 43,
   "id": "2b5f0782",
   "metadata": {},
   "outputs": [
    {
     "name": "stdout",
     "output_type": "stream",
     "text": [
      "3\n",
      "4\n",
      "5\n",
      "7\n",
      "[4, 5, 7]\n",
      "maximum number and minimum number in the list are  7 4 respectively\n"
     ]
    }
   ],
   "source": [
    "n = int(input())\n",
    "s =list()\n",
    "for i in range(0,n):\n",
    "    m =int(input())\n",
    "    s.append(m)\n",
    "x =max(s)\n",
    "y =min(s)\n",
    "print(s)\n",
    "print(\"maximum number and minimum number in the list are \",x,y,\"respectively\")\n"
   ]
  },
  {
   "cell_type": "markdown",
   "id": "758565ef",
   "metadata": {},
   "source": [
    "# Q7"
   ]
  },
  {
   "cell_type": "code",
   "execution_count": 47,
   "id": "31656bb7",
   "metadata": {},
   "outputs": [
    {
     "name": "stdout",
     "output_type": "stream",
     "text": [
      "3\n",
      "1\n",
      "3\n",
      "3\n",
      "the number  1 is repeated 1 times\n",
      "the number  3 is repeated 2 times\n",
      "the number  3 is repeated 2 times\n"
     ]
    }
   ],
   "source": [
    "n = int(input())\n",
    "s =list()\n",
    "for i in range(0,n):\n",
    "    m =int(input())\n",
    "    s.append(m)\n",
    "for i in s:\n",
    "    x = s.count(i)\n",
    "    print(\"the number \",i,\"is repeated\",x,\"times\")\n",
    "    "
   ]
  },
  {
   "cell_type": "markdown",
   "id": "e8e3ffee",
   "metadata": {},
   "source": [
    "# Q8"
   ]
  },
  {
   "cell_type": "code",
   "execution_count": 2,
   "id": "0d317e10",
   "metadata": {},
   "outputs": [
    {
     "name": "stdout",
     "output_type": "stream",
     "text": [
      "enter a number:9\n",
      "Please enter the index between 0 and 5 to add the number:\n",
      "3\n",
      "[4, 4, 5, 9, 6, 7, 2]\n"
     ]
    }
   ],
   "source": [
    "list_1 = [4,4,5,6,7,2]\n",
    "s= int(input(\"enter a number:\"))\n",
    "num =int(input(f'Please enter the index between 0 and {len(list_1) - 1} to add the number:\\n'))\n",
    "list_1.insert(num,s)\n",
    "print(list_1)\n"
   ]
  },
  {
   "cell_type": "code",
   "execution_count": null,
   "id": "e0210f5e",
   "metadata": {},
   "outputs": [],
   "source": []
  }
 ],
 "metadata": {
  "kernelspec": {
   "display_name": "Python 3 (ipykernel)",
   "language": "python",
   "name": "python3"
  },
  "language_info": {
   "codemirror_mode": {
    "name": "ipython",
    "version": 3
   },
   "file_extension": ".py",
   "mimetype": "text/x-python",
   "name": "python",
   "nbconvert_exporter": "python",
   "pygments_lexer": "ipython3",
   "version": "3.11.5"
  }
 },
 "nbformat": 4,
 "nbformat_minor": 5
}
