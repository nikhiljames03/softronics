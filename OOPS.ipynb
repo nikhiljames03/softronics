{
 "cells": [
  {
   "cell_type": "markdown",
   "id": "c187df6d",
   "metadata": {},
   "source": [
    "class cars:\n",
    "    def __init__(self,color,size,speed):\n",
    "        self.color = color\n",
    "        self.size = size\n",
    "        self.speed = speed\n",
    "\n",
    "    def drive(self):\n",
    "        print(f'the {self.color} car is driving at{self.speed}mph.')\n",
    "    def stop(self):\n",
    "        print(f'the {self.color} car has stopped')\n",
    "    def honk(self):\n",
    "        print(f'the {self.color} car is honking')\n",
    "    \n",
    "red_cars =cars('red','medium',80)\n",
    "green_cars =cars('green','small',47)\n",
    "yellow_cars =cars('yellow','large',190)\n",
    "print(f'the{red_cars.color}car is {red_cars.size} in size and has a speed of {red_cars.speed} mph.' )\n",
    "print(f'the{green_cars.color}car is {green_cars.size} in size and has a speed of {green_cars.speed} mph.' )\n",
    "print(f'the{yellow_cars.color}car is {yellow_cars.size} in size and has a speed of {yellow_cars.speed} mph.' )\n",
    "\n",
    "red_cars.drive()\n",
    "green_cars.stop()\n",
    "yellow_cars.honk()"
   ]
  },
  {
   "cell_type": "code",
   "execution_count": 10,
   "id": "4d0848f5",
   "metadata": {},
   "outputs": [
    {
     "name": "stdout",
     "output_type": "stream",
     "text": [
      "10\n"
     ]
    }
   ],
   "source": [
    "class myclass:\n",
    "    x = 10 \n",
    "    \n",
    "print(myclass.x)"
   ]
  },
  {
   "cell_type": "code",
   "execution_count": 11,
   "id": "cdd29df6",
   "metadata": {},
   "outputs": [
    {
     "name": "stdout",
     "output_type": "stream",
     "text": [
      "20\n"
     ]
    }
   ],
   "source": [
    "class myclass:\n",
    "    y = 20\n",
    "obj = myclass()\n",
    "print(obj.y)"
   ]
  },
  {
   "cell_type": "code",
   "execution_count": 20,
   "id": "0a6a04eb",
   "metadata": {},
   "outputs": [
    {
     "name": "stdout",
     "output_type": "stream",
     "text": [
      "20\n"
     ]
    }
   ],
   "source": [
    "class MyClass:\n",
    "    def __init__(self):\n",
    "        self.y = 20\n",
    "obj = MyClass()\n",
    "print(obj.y) "
   ]
  },
  {
   "cell_type": "code",
   "execution_count": 3,
   "id": "14a6c331",
   "metadata": {},
   "outputs": [
    {
     "name": "stdout",
     "output_type": "stream",
     "text": [
      "Balance:  2500\n"
     ]
    }
   ],
   "source": [
    "class BankAccount:\n",
    "    def __init__(self, balance=1000, account_number=222) :\n",
    "        self.balance = balance\n",
    "        self. account_number = account_number\n",
    "    def deposit(self, amount) :\n",
    "        self. balance += amount\n",
    "    def withdraw(self, amount):\n",
    "        if self.balance<amount:\n",
    "            print(\"Insufficient balance\")\n",
    "        else:\n",
    "            self.balance -= amount\n",
    "    def print_current_balance(self):\n",
    "        print(\"Balance: \",self.balance)\n",
    "#BA = BankAccount()\n",
    "BA = BankAccount (2000,5555)\n",
    "BA. deposit (500)\n",
    "BA. print_current_balance()\n",
    "Balance: 2500"
   ]
  },
  {
   "cell_type": "code",
   "execution_count": 4,
   "id": "7d9beeee",
   "metadata": {},
   "outputs": [
    {
     "name": "stdout",
     "output_type": "stream",
     "text": [
      "Balance:  1500\n"
     ]
    }
   ],
   "source": [
    "BA.withdraw(1000)\n",
    "BA. print_current_balance()"
   ]
  },
  {
   "cell_type": "code",
   "execution_count": 7,
   "id": "75ee2f50",
   "metadata": {},
   "outputs": [
    {
     "name": "stdout",
     "output_type": "stream",
     "text": [
      "<__main__.Person object at 0x106735ad0>\n",
      "John\n",
      "36\n"
     ]
    }
   ],
   "source": [
    "class Person:\n",
    "    def __init__(self, name, age) :\n",
    "        self.name = name\n",
    "        self.age = age\n",
    "p1 = Person(\"John\", 36)\n",
    "print(p1)\n",
    "print(p1. name)\n",
    "print(p1.age)"
   ]
  },
  {
   "cell_type": "code",
   "execution_count": 9,
   "id": "a786b078",
   "metadata": {},
   "outputs": [
    {
     "name": "stdout",
     "output_type": "stream",
     "text": [
      "John - 36.6\n"
     ]
    }
   ],
   "source": [
    "class Person: \n",
    "    def __init__(self, name, age) :\n",
    "        self.name = name\n",
    "        self.age = age\n",
    "    def __str__(self):\n",
    "        return f\"{self.name} - {self.age}\"\n",
    "p1 = Person(\"John\", 36.6)\n",
    "print(p1)"
   ]
  },
  {
   "cell_type": "markdown",
   "id": "1d95722d",
   "metadata": {},
   "source": [
    "# Python Inheritance\n",
    "## Inheritance allows us to define a class that inherits all the methods and properties from another class.\n",
    "Parent class(Super class) is the class being inherited from, also called base class.\n",
    "Child class(Sub class) is the class that inherits from another class, also called derived class.\n",
    "define a superclass\n",
    "class super_class:\n",
    "#attributes and method definition\n",
    "inheritance\n",
    "class sub_class(super_class):\n",
    "#attributes and method of super_class\n",
    "#attributes and method of sub_class"
   ]
  },
  {
   "cell_type": "code",
   "execution_count": 11,
   "id": "9aaf5fe8",
   "metadata": {},
   "outputs": [
    {
     "name": "stdout",
     "output_type": "stream",
     "text": [
      "I can eat\n",
      "My name is  Rohu\n"
     ]
    }
   ],
   "source": [
    "class Animal:\n",
    "# attribute and method of the parent class\n",
    "    name = \"\"\n",
    "    def eat(self):\n",
    "        print(\"I can eat\")\n",
    "        # inherit from Animal\n",
    "class Dog(Animal):\n",
    "# new method in subclass\n",
    "    def display(self):\n",
    "# access name attribute of superclass using self\n",
    "        print(\"My name is \", self.name)\n",
    "# create an object of the subclass\n",
    "labrador = Dog()\n",
    "# access superclass attribute and method\n",
    "labrador. name = \"Rohu\"\n",
    "labrador.eat()\n",
    "# call subclass method\n",
    "labrador.display()"
   ]
  },
  {
   "cell_type": "code",
   "execution_count": 16,
   "id": "f9ac7931",
   "metadata": {},
   "outputs": [
    {
     "name": "stdout",
     "output_type": "stream",
     "text": [
      "Enter side 1 : 3\n",
      "Enter side 2 : 3\n",
      "Enter side 3 : 8\n",
      "Enter side 4 : 8\n",
      "24.0\n"
     ]
    }
   ],
   "source": [
    "class Polygon:\n",
    "# Initializing the number of sides\n",
    "    def __init__(self, no_of_sides):\n",
    "        self.n = no_of_sides\n",
    "        self.sides = [0 for i in range(no_of_sides)]\n",
    "    def inputSides(self):\n",
    "        self.sides = [float(input(\"Enter side \"+str(i+1)+\" : \")) for i in range(self.n)]\n",
    "        # method to display the length of each side of the polygon\n",
    "    def dispSides (self):\n",
    "        for i in range(self.n):\n",
    "            print(\"Side\", i+1, \"is\",self.sides[i])\n",
    "class Triangle(Polygon):\n",
    "# Initializing the number of sides of the triangle to 3 by\n",
    "# calling the_init_ method of the Polygon class\n",
    "    def __init__(self):\n",
    "        Polygon.__init__(self,3)\n",
    "    def findArea(self) :\n",
    "        a, b, c = self.sides\n",
    "# calculate the semi-perimeter\n",
    "        s= (a + b + c) / 2\n",
    "# Using Heron's formula to calculate the area of the triangle\n",
    "        area = (s*(s-a)*(s-b)*(s-c)) ** 0.5\n",
    "class rectangle(Polygon):\n",
    "    def __init__(self):\n",
    "        Polygon.__init__(self,2)\n",
    "    def findArea(self):\n",
    "        a, b= self.sides\n",
    "        s = a* \n",
    "        print(s)\n",
    "r = rectangle()\n",
    "r.inputSides()\n",
    "r.findArea()"
   ]
  },
  {
   "cell_type": "markdown",
   "id": "3ebdedad",
   "metadata": {},
   "source": [
    "# ploymorphism"
   ]
  },
  {
   "cell_type": "code",
   "execution_count": 3,
   "id": "91aade5a",
   "metadata": {},
   "outputs": [
    {
     "name": "stdout",
     "output_type": "stream",
     "text": [
      "i can eat \n",
      "i like eat bones\n"
     ]
    }
   ],
   "source": [
    "class animal:\n",
    "    name =\"\"\n",
    "    def eat (self):\n",
    "        print(\"i can eat \")\n",
    "class Dog (animal):\n",
    "    def eat (self):\n",
    "        super().eat()\n",
    "        print(\"i like eat bones\")\n",
    "lab =Dog()\n",
    "lab.eat()"
   ]
  },
  {
   "cell_type": "markdown",
   "id": "9ceb1624",
   "metadata": {},
   "source": [
    "# Multiple inheritence"
   ]
  },
  {
   "cell_type": "code",
   "execution_count": 4,
   "id": "18f45d8b",
   "metadata": {},
   "outputs": [
    {
     "name": "stdout",
     "output_type": "stream",
     "text": [
      "am mammal\n",
      "i can fly\n"
     ]
    }
   ],
   "source": [
    "class mammal:\n",
    "    def mammalinfo(self):\n",
    "        print(\"am mammal\")\n",
    "class wingedanimal:\n",
    "    def wingedinfo(self):\n",
    "        print(\"i can fly\")\n",
    "class bat(mammal,wingedanimal):\n",
    "    pass\n",
    "f= bat()\n",
    "f.mammalinfo()\n",
    "f.wingedinfo()\n"
   ]
  },
  {
   "cell_type": "markdown",
   "id": "f4db1c8b",
   "metadata": {},
   "source": [
    "# multi level inheritence"
   ]
  },
  {
   "cell_type": "code",
   "execution_count": 13,
   "id": "c4c287a7",
   "metadata": {},
   "outputs": [
    {
     "name": "stdout",
     "output_type": "stream",
     "text": [
      "fido says :woof\n",
      "i can walk\n",
      "i also can walk\n"
     ]
    }
   ],
   "source": [
    "class animal:\n",
    "    def __init__(self,name):\n",
    "        self.name=name\n",
    "    def speak(self):\n",
    "        pass\n",
    "class mammal(animal):\n",
    "    def give_birth(self):\n",
    "        pass\n",
    "    def walk(self):\n",
    "        print(\"i can walk\")\n",
    "class dog(mammal):\n",
    "    def speak (self):\n",
    "        return \"woof\"\n",
    "    def walk(self):\n",
    "        super().walk()\n",
    "        print(\"i also can walk\")\n",
    "class bird(animal):\n",
    "    def fly(self):\n",
    "        pass\n",
    "D = dog(\"fido\")\n",
    "print(f'{D.name} says :{D.speak()}')\n",
    "D.walk()"
   ]
  },
  {
   "cell_type": "code",
   "execution_count": 24,
   "id": "19045451",
   "metadata": {},
   "outputs": [
    {
     "name": "stdout",
     "output_type": "stream",
     "text": [
      "area = 78.5\n",
      "area = 20\n"
     ]
    }
   ],
   "source": [
    "\n",
    "from abc import ABC, abstractmethod\n",
    "\n",
    "class Shape(ABC) :\n",
    "    @abstractmethod\n",
    "    def area (self):\n",
    "        pass\n",
    "\n",
    "class Circle(Shape):\n",
    "    def __init__(self, radius) :\n",
    "        self.radius = radius\n",
    "    def area (self):\n",
    "            return 3.14 * self.radius * self.radius\n",
    "\n",
    "class Rectangle(Shape):\n",
    "    def __init__(self, width, height):\n",
    "        self.width = width\n",
    "        self.height = height\n",
    "    def area(self):\n",
    "        return self.width * self.height\n",
    "    \n",
    "rcle = Circle(5)\n",
    "rectangle = Rectangle(4,5)\n",
    "Shapes = [rcle,rectangle]\n",
    "\n",
    "for shape in Shapes:\n",
    "    print(f'area = {shape.area()}')"
   ]
  },
  {
   "cell_type": "code",
   "execution_count": 1,
   "id": "497b86c1",
   "metadata": {},
   "outputs": [
    {
     "name": "stdout",
     "output_type": "stream",
     "text": [
      "linked list:\n",
      "1 ->2 ->3\n"
     ]
    }
   ],
   "source": [
    "class Node:\n",
    "    def __init__(self,data):\n",
    "        self.data = data\n",
    "        self.next_node = None\n",
    "class Linkedlist:\n",
    "    def __init__(self):\n",
    "        self.head=None\n",
    "    def is_empty(self):\n",
    "        return self.head is None\n",
    "    def append(self,data):\n",
    "        new_node = Node(data)\n",
    "        if self.is_empty():\n",
    "            self.head =new_node\n",
    "        else:\n",
    "            current_node = self.head\n",
    "            while current_node.next_node:\n",
    "                current_node = current_node.next_node\n",
    "            current_node.next_node=new_node\n",
    "    def display(self):\n",
    "        elements =[]\n",
    "        current_node = self.head\n",
    "        while current_node:\n",
    "            elements.append(current_node.data)\n",
    "            current_node = current_node.next_node\n",
    "        print(\" ->\".join(map(str,elements)))\n",
    "\n",
    "\n",
    "my_linkedlist= Linkedlist()\n",
    "\n",
    "my_linkedlist.append(1)\n",
    "my_linkedlist.append(2)\n",
    "my_linkedlist.append(3)\n",
    "\n",
    "\n",
    "print(\"linked list:\")\n",
    "my_linkedlist.display()"
   ]
  },
  {
   "cell_type": "code",
   "execution_count": null,
   "id": "28bfcca9",
   "metadata": {},
   "outputs": [],
   "source": []
  }
 ],
 "metadata": {
  "kernelspec": {
   "display_name": "Python 3 (ipykernel)",
   "language": "python",
   "name": "python3"
  },
  "language_info": {
   "codemirror_mode": {
    "name": "ipython",
    "version": 3
   },
   "file_extension": ".py",
   "mimetype": "text/x-python",
   "name": "python",
   "nbconvert_exporter": "python",
   "pygments_lexer": "ipython3",
   "version": "3.11.5"
  }
 },
 "nbformat": 4,
 "nbformat_minor": 5
}
