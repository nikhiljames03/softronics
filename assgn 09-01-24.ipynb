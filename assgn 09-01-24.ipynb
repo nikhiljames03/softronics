{
 "cells": [
  {
   "attachments": {},
   "cell_type": "markdown",
   "id": "bf266f4e",
   "metadata": {},
   "source": [
    "# Python Basics Exercises!\n",
    "### By Nikhil James"
   ]
  },
  {
   "attachments": {},
   "cell_type": "markdown",
   "id": "04e49e67",
   "metadata": {},
   "source": [
    "1)Write a program that prints \"Hello, How are You ? \" on the console."
   ]
  },
  {
   "cell_type": "code",
   "execution_count": 1,
   "id": "9ee83cb5",
   "metadata": {},
   "outputs": [
    {
     "name": "stdout",
     "output_type": "stream",
     "text": [
      "Hello, How are You?\n"
     ]
    }
   ],
   "source": [
    "print(\"Hello, How are You?\")"
   ]
  },
  {
   "attachments": {},
   "cell_type": "markdown",
   "id": "2b909172",
   "metadata": {},
   "source": [
    "2)Write a program that take the user ‘s name and then prints a greeting message with their name."
   ]
  },
  {
   "cell_type": "code",
   "execution_count": 2,
   "id": "8560c957",
   "metadata": {},
   "outputs": [
    {
     "name": "stdout",
     "output_type": "stream",
     "text": [
      "Enter your Name: Nikhil James\n",
      "Good Morning Nikhil James,Have a nice day\n"
     ]
    }
   ],
   "source": [
    "x = input(\"Enter your Name: \")\n",
    "print(\"Good Morning \"+ x +\",Have a nice day\")"
   ]
  },
  {
   "attachments": {},
   "cell_type": "markdown",
   "id": "8aa8181c",
   "metadata": {},
   "source": [
    "3)Write a program that takes two numbers as input and prints their sum."
   ]
  },
  {
   "cell_type": "code",
   "execution_count": 3,
   "id": "651fef10",
   "metadata": {},
   "outputs": [
    {
     "name": "stdout",
     "output_type": "stream",
     "text": [
      "Enter a Number1\n",
      "Enter a Number2\n",
      "3\n"
     ]
    }
   ],
   "source": [
    "x = int(input(\"Enter a Number\"))\n",
    "y = int(input(\"Enter a Number\"))\n",
    "print(x+y)"
   ]
  },
  {
   "attachments": {},
   "cell_type": "markdown",
   "id": "a9edd61b",
   "metadata": {},
   "source": [
    "4.Write a program that takes a string as input and prints its length."
   ]
  },
  {
   "cell_type": "code",
   "execution_count": 4,
   "id": "36e8d2f9",
   "metadata": {},
   "outputs": [
    {
     "name": "stdout",
     "output_type": "stream",
     "text": [
      "Enter a string: abcdefg\n",
      "7\n"
     ]
    }
   ],
   "source": [
    "x = input(\"Enter a string: \")\n",
    "print(len(x))"
   ]
  },
  {
   "attachments": {},
   "cell_type": "markdown",
   "id": "94294299",
   "metadata": {},
   "source": [
    "5)Write a program that takes a sentence and then prints the number of words in that sentence."
   ]
  },
  {
   "cell_type": "code",
   "execution_count": 8,
   "id": "5c5c2071",
   "metadata": {},
   "outputs": [
    {
     "name": "stdout",
     "output_type": "stream",
     "text": [
      "Enter a sentence: Write a program that takes a sentence and then prints the number of words in that sentence.\n",
      "17\n"
     ]
    }
   ],
   "source": [
    "x = input(\"Enter a sentence: \").split(\" \")\n",
    "z = list(x)\n",
    "print(len(z))"
   ]
  },
  {
   "attachments": {},
   "cell_type": "markdown",
   "id": "6026e474",
   "metadata": {},
   "source": [
    "6)Write a program that takes a string as input and counts the number of uppercase letters in the string."
   ]
  },
  {
   "cell_type": "code",
   "execution_count": 37,
   "id": "2570f3b7",
   "metadata": {},
   "outputs": [
    {
     "name": "stdout",
     "output_type": "stream",
     "text": [
      "enter a string:Hello My Name is Nikhil James\n",
      "5\n"
     ]
    }
   ],
   "source": [
    "x =input(\"enter a string:\")\n",
    "y=0\n",
    "for i in x:\n",
    "    if (i.isupper()):\n",
    "        y+=1\n",
    "print(y)\n"
   ]
  },
  {
   "attachments": {},
   "cell_type": "markdown",
   "id": "27b67446",
   "metadata": {},
   "source": [
    "7)Write a program that takes a sentence and then converts all the characters to uppercase."
   ]
  },
  {
   "cell_type": "code",
   "execution_count": 15,
   "id": "57db82e3",
   "metadata": {},
   "outputs": [
    {
     "name": "stdout",
     "output_type": "stream",
     "text": [
      "Enter a sentence:  hi hello my name is alan \n",
      " HI HELLO MY NAME IS ALAN \n"
     ]
    }
   ],
   "source": [
    "x = input(\"Enter a sentence: \")\n",
    "z = x.upper()\n",
    "print(z)"
   ]
  },
  {
   "attachments": {},
   "cell_type": "markdown",
   "id": "d87ee60b",
   "metadata": {},
   "source": [
    "8)Write a program that takes a string as input and replaces all occurrences of the letter 'a' with the letter 'e'."
   ]
  },
  {
   "cell_type": "code",
   "execution_count": 16,
   "id": "853dba53",
   "metadata": {},
   "outputs": [
    {
     "name": "stdout",
     "output_type": "stream",
     "text": [
      "enter a string: aidhehaiwj\n",
      "eidheheiwj\n"
     ]
    }
   ],
   "source": [
    "x = input(\"enter a string: \")\n",
    "z=x.replace(\"a\",\"e\")\n",
    "print(z)"
   ]
  },
  {
   "attachments": {},
   "cell_type": "markdown",
   "id": "dd6e82f0",
   "metadata": {},
   "source": [
    "9)Create a program that checks if a given string is a palindrome."
   ]
  },
  {
   "cell_type": "code",
   "execution_count": 18,
   "id": "39cb54bc",
   "metadata": {},
   "outputs": [
    {
     "name": "stdout",
     "output_type": "stream",
     "text": [
      "enter a string: abba\n",
      "palindrome\n"
     ]
    }
   ],
   "source": [
    "x = input(\"enter a string: \")\n",
    "s = x[::-1]\n",
    "if (s==x):\n",
    "    print(\"palindrome\")\n",
    "else:\n",
    "    print(\"Not palindrome\")"
   ]
  },
  {
   "attachments": {},
   "cell_type": "markdown",
   "id": "177ad212",
   "metadata": {},
   "source": [
    "10)Create a program that checks if a substring is present in a given string."
   ]
  },
  {
   "cell_type": "code",
   "execution_count": 20,
   "id": "5f13d8f9",
   "metadata": {},
   "outputs": [
    {
     "name": "stdout",
     "output_type": "stream",
     "text": [
      "enter a string: Create a program that checks if a substring is present in a given string\n",
      "enter a substring to search:string\n",
      "it is present\n"
     ]
    }
   ],
   "source": [
    "x = input(\"enter a string: \")\n",
    "y = input(\"enter a substring to search:\")\n",
    "if y in x:\n",
    "    print(\"it is present\")\n",
    "else:\n",
    "    print(\"Not present\")"
   ]
  },
  {
   "cell_type": "markdown",
   "id": "a99b835a",
   "metadata": {},
   "source": [
    "11)Write a program that reverses the order of words in a given sentence\n"
   ]
  },
  {
   "cell_type": "code",
   "execution_count": 23,
   "id": "b9ae6ff3",
   "metadata": {},
   "outputs": [
    {
     "name": "stdout",
     "output_type": "stream",
     "text": [
      "Enter a sentence:a program that reverses the order of words in a given sentence\n",
      "sentence given a in words of order the reverses that program a\n"
     ]
    }
   ],
   "source": [
    "x = input(\"Enter a sentence:\").split(\" \")\n",
    "z = x[::-1]\n",
    "print(\" \".join(z))"
   ]
  },
  {
   "attachments": {},
   "cell_type": "markdown",
   "id": "a129243b",
   "metadata": {},
   "source": [
    "12)Write a program that finds the longest word in a given sentence."
   ]
  },
  {
   "cell_type": "code",
   "execution_count": 24,
   "id": "0cd8c3d9",
   "metadata": {},
   "outputs": [
    {
     "name": "stdout",
     "output_type": "stream",
     "text": [
      "Enter a sentence:  longest word in a given sentence.\n",
      "sentence.\n"
     ]
    }
   ],
   "source": [
    "x = input(\"Enter a sentence: \").split(\" \")\n",
    "y = sorted(x,key=len)\n",
    "print(y[-1])\n"
   ]
  },
  {
   "attachments": {},
   "cell_type": "markdown",
   "id": "fc71515a",
   "metadata": {},
   "source": [
    "13)Write a program that reverses the order of words in a given sentence."
   ]
  },
  {
   "cell_type": "code",
   "execution_count": 25,
   "id": "3f2b03fb",
   "metadata": {},
   "outputs": [
    {
     "name": "stdout",
     "output_type": "stream",
     "text": [
      "Enter a sentence:Write a program that reverses the order of words in a given sentence.\n",
      "sentence. given a in words of order the reverses that program a Write\n"
     ]
    }
   ],
   "source": [
    "x = input(\"Enter a sentence:\").split(\" \")\n",
    "z = x[::-1]\n",
    "print(\" \".join(z))"
   ]
  },
  {
   "cell_type": "markdown",
   "id": "2e7c5279",
   "metadata": {},
   "source": [
    "# -----------------------------------------------------------------------------------------"
   ]
  }
 ],
 "metadata": {
  "kernelspec": {
   "display_name": "Python 3 (ipykernel)",
   "language": "python",
   "name": "python3"
  },
  "language_info": {
   "codemirror_mode": {
    "name": "ipython",
    "version": 3
   },
   "file_extension": ".py",
   "mimetype": "text/x-python",
   "name": "python",
   "nbconvert_exporter": "python",
   "pygments_lexer": "ipython3",
   "version": "3.11.5"
  }
 },
 "nbformat": 4,
 "nbformat_minor": 5
}
