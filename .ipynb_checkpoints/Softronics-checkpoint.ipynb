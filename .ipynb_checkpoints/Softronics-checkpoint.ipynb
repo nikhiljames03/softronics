{
 "cells": [
  {
   "cell_type": "code",
   "execution_count": 1,
   "id": "592f9648",
   "metadata": {},
   "outputs": [
    {
     "name": "stdout",
     "output_type": "stream",
     "text": [
      "4 2.65 hello\n",
      "<class 'int'> <class 'float'> <class 'str'>\n"
     ]
    }
   ],
   "source": [
    "x = 4\n",
    "y = 2.65\n",
    "z = \"hello\"\n",
    "print(x,y,z)\n",
    "print(type(x),type(y),type(z))"
   ]
  },
  {
   "cell_type": "markdown",
   "id": "95756171",
   "metadata": {},
   "source": [
    "# type_casting\n"
   ]
  },
  {
   "cell_type": "code",
   "execution_count": 6,
   "id": "5520ea86",
   "metadata": {
    "scrolled": false
   },
   "outputs": [
    {
     "name": "stdout",
     "output_type": "stream",
     "text": [
      "<class 'float'> <class 'int'>\n"
     ]
    }
   ],
   "source": [
    "a = float(x)\n",
    "b = int(y)\n",
    "print(type(a),type(b))"
   ]
  },
  {
   "cell_type": "markdown",
   "id": "e554294b",
   "metadata": {},
   "source": [
    "## commenting\n"
   ]
  },
  {
   "cell_type": "code",
   "execution_count": 7,
   "id": "3f08dfa9",
   "metadata": {},
   "outputs": [],
   "source": [
    "# hello"
   ]
  },
  {
   "cell_type": "code",
   "execution_count": 10,
   "id": "62f314be",
   "metadata": {
    "scrolled": true
   },
   "outputs": [
    {
     "data": {
      "text/plain": [
       "'a = float(x)\\nb = int(y)\\nprint(type(a),type(b))'"
      ]
     },
     "execution_count": 10,
     "metadata": {},
     "output_type": "execute_result"
    }
   ],
   "source": [
    "'''a = float(x)\n",
    "b = int(y)\n",
    "print(type(a),type(b)) '''"
   ]
  },
  {
   "cell_type": "markdown",
   "id": "9d247a4d",
   "metadata": {},
   "source": [
    "# user Input\n"
   ]
  },
  {
   "cell_type": "code",
   "execution_count": 13,
   "id": "5cdfa093",
   "metadata": {},
   "outputs": [
    {
     "name": "stdout",
     "output_type": "stream",
     "text": [
      "enter your namenikhil\n",
      "enter your age21\n",
      "my name is nikhil and my age is 21\n"
     ]
    }
   ],
   "source": [
    "x= input(\"enter your name\")\n",
    "y=int (input(\"enter your age\"))\n",
    "print(\"my name is \" + x+ \" and my age is\",y)"
   ]
  },
  {
   "cell_type": "code",
   "execution_count": 1,
   "id": "11993a12",
   "metadata": {},
   "outputs": [
    {
     "name": "stdout",
     "output_type": "stream",
     "text": [
      "12\n"
     ]
    }
   ],
   "source": [
    "x=\"nikhil james\"\n",
    "y=len(x)\n",
    "print(y)"
   ]
  },
  {
   "cell_type": "markdown",
   "id": "62f0cd87",
   "metadata": {},
   "source": [
    "# STRING SLICING "
   ]
  },
  {
   "cell_type": "code",
   "execution_count": 2,
   "id": "8f087f55",
   "metadata": {},
   "outputs": [
    {
     "name": "stdout",
     "output_type": "stream",
     "text": [
      "e\n"
     ]
    }
   ],
   "source": [
    "#negative indexing\n",
    "A=x[-2]\n",
    "print(A)"
   ]
  },
  {
   "cell_type": "markdown",
   "id": "8ab6e20b",
   "metadata": {},
   "source": [
    "**NOTE:**\n",
    "string[start:end:step] \n"
   ]
  },
  {
   "cell_type": "code",
   "execution_count": 6,
   "id": "26dbcf15",
   "metadata": {},
   "outputs": [
    {
     "name": "stdout",
     "output_type": "stream",
     "text": [
      "nh m\n"
     ]
    }
   ],
   "source": [
    "x=\"nikhil james\"\n",
    "A=x[0:12:3]\n",
    "print(A)"
   ]
  },
  {
   "cell_type": "code",
   "execution_count": 7,
   "id": "3e5172f3",
   "metadata": {},
   "outputs": [
    {
     "name": "stdout",
     "output_type": "stream",
     "text": [
      "semaj lihkin\n"
     ]
    }
   ],
   "source": [
    "a=x[::-1]\n",
    "print(a)"
   ]
  },
  {
   "cell_type": "code",
   "execution_count": 8,
   "id": "a6b46092",
   "metadata": {},
   "outputs": [
    {
     "name": "stdout",
     "output_type": "stream",
     "text": [
      "ni james\n"
     ]
    }
   ],
   "source": [
    "b=x[:2]\n",
    "c=x[7:]\n",
    "print(b,c)"
   ]
  },
  {
   "cell_type": "markdown",
   "id": "268ed04f",
   "metadata": {},
   "source": [
    "# CONCATENATION"
   ]
  },
  {
   "cell_type": "code",
   "execution_count": 11,
   "id": "6fadba9b",
   "metadata": {},
   "outputs": [
    {
     "name": "stdout",
     "output_type": "stream",
     "text": [
      "Nikhil James\n"
     ]
    }
   ],
   "source": [
    "A=\"Nikhil\"\n",
    "B=\"James\"\n",
    "print(A+\" \"+B)"
   ]
  },
  {
   "cell_type": "raw",
   "id": "6a295b30",
   "metadata": {},
   "source": [
    "string methods\n"
   ]
  },
  {
   "cell_type": "code",
   "execution_count": 14,
   "id": "6f4290c6",
   "metadata": {},
   "outputs": [
    {
     "name": "stdout",
     "output_type": "stream",
     "text": [
      "True\n"
     ]
    }
   ],
   "source": [
    "y=\"abc\".isalpha()\n",
    "print(y)"
   ]
  },
  {
   "cell_type": "code",
   "execution_count": 17,
   "id": "c161c396",
   "metadata": {},
   "outputs": [
    {
     "name": "stdout",
     "output_type": "stream",
     "text": [
      "['apple', 'banana', 'cherry']\n",
      "apple banana cherry\n"
     ]
    }
   ],
   "source": [
    "my_string=\"apple,banana,cherry\"\n",
    "fruits =my_string.split(\",\")\n",
    "print(fruits)\n",
    "fruitsnew=\" \".join(fruits)\n",
    "print(fruitsnew)"
   ]
  },
  {
   "cell_type": "markdown",
   "id": "1f21c882",
   "metadata": {},
   "source": []
  }
 ],
 "metadata": {
  "kernelspec": {
   "display_name": "Python 3 (ipykernel)",
   "language": "python",
   "name": "python3"
  },
  "language_info": {
   "codemirror_mode": {
    "name": "ipython",
    "version": 3
   },
   "file_extension": ".py",
   "mimetype": "text/x-python",
   "name": "python",
   "nbconvert_exporter": "python",
   "pygments_lexer": "ipython3",
   "version": "3.11.5"
  }
 },
 "nbformat": 4,
 "nbformat_minor": 5
}
